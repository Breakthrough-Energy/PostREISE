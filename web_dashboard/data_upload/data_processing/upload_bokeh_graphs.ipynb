{
 "cells": [
  {
   "cell_type": "code",
   "execution_count": null,
   "metadata": {},
   "outputs": [],
   "source": [
    "%load_ext autoreload\n",
    "%autoreload 2"
   ]
  },
  {
   "cell_type": "markdown",
   "metadata": {},
   "source": [
    "# NOTE: The code REQUIRES bokeh v. 2.0.2\n",
    "# Make sure you pip install first!"
   ]
  },
  {
   "cell_type": "code",
   "execution_count": null,
   "metadata": {},
   "outputs": [],
   "source": [
    "from data_upload.azure_blob_uploaders import BlobUtil\n",
    "#note: azure requirement errors may be due to installation of 'azure' package. If you get errors try uninstalling azure\n",
    "\n",
    "from data_upload.bokeh_graphs import upload_bokeh_fig, create_and_upload_bokeh_figs_for_scenario\n",
    "\n",
    "# Leaving these all here because they're useful\n",
    "from postreise.analyze.transmission.utilization import get_utilization, generate_cong_stats\n",
    "from postreise.plot.plot_lmp_map import map_lmp\n",
    "from postreise.plot.plot_utilization_map import map_utilization, map_risk_bind\n",
    "from postreise.analyze.generation.emissions import summarize_emissions_by_bus, generate_emissions_stats\n",
    "from postreise.plot.plot_carbon_map import map_carbon_emission, map_carbon_emission_comparison, combine_bus_info_and_emission\n",
    "from powersimdata.scenario.scenario import Scenario\n",
    "\n",
    "from bokeh.io import show"
   ]
  },
  {
   "cell_type": "code",
   "execution_count": null,
   "metadata": {
    "scrolled": true,
    "tags": []
   },
   "outputs": [],
   "source": [
    "# Setting a var here for carbon diff graphs so we don't have to calculate the same data every time....\n",
    "scenario_hist = Scenario('824') # 2020 USA scenario\n",
    "grid_hist = scenario_hist.state.get_grid()\n",
    "carbon_by_bus_hist = summarize_emissions_by_bus(generate_emissions_stats(scenario_hist), grid_hist)\n",
    "\n",
    "# We'll be using this in upload_bokeh_figs_for_scenario\n",
    "busmap_hist = combine_bus_info_and_emission(grid_hist.bus, carbon_by_bus_hist)"
   ]
  },
  {
   "cell_type": "markdown",
   "metadata": {},
   "source": [
    "# You need to add your scenario ids, graph types, version, local path, and conn string below\n",
    "\n",
    "### Scenario Ids Currently on the Dashboard\n",
    "`['823', '824', '1097', '1098', '1099', '1149', '1151', '1152', '1176', '1177', '1204', '1205', '1206', '1242', '1244', '1245', '1251', '1257', '1258', '1270', '1338', '1361', '1362', '1705', '1724', '1723']`\n",
    "\n",
    "### All Available Graph Types\n",
    "`['transmission_utilization_map', 'transmission_risk_map', 'transmission_bind_map', 'lmp_map', 'carbon_map', 'carbon_diff_map']`\n",
    "\n",
    "**Note:** `carbon_diff_map` is currently broken for 824 (USA 2020 map) since we're comparing the US with itself. You really just need to upload an empty USA map though. \n",
    "\n",
    "### Version Info\n",
    "Please increment from the previous version unless you want updates to go directly to prod.\n",
    "\n",
    "Current staging/prod version: https://github.com/Breakthrough-Energy/CENACS/blob/master/frontend/src/data/graph_info.js\n",
    "\n",
    "Please also check here so you don't overwrite graphs that have not yet been merged to master: https://portal.azure.com/#@gatesventures.com/resource/subscriptions/237d7726-5ddd-4568-936a-02c3236a712f/resourcegroups/CENACS/providers/Microsoft.Storage/storageAccounts/bescienceswebsite/storageexplorer\n",
    "\n",
    "### Local Path\n",
    "All the bokeh figures you generate will be saved to this location on your local machine\n",
    "Example: `f'/Users/merrielleondreicka/Desktop/bokeh_figures/{version}/'`\n",
    "\n",
    "### Connection String\n",
    "Go here: https://portal.azure.com/#@gatesventures.com/resource/subscriptions/237d7726-5ddd-4568-936a-02c3236a712f/resourcegroups/CENACS/providers/Microsoft.Storage/storageAccounts/bescienceswebsite/keys\n",
    "\n"
   ]
  },
  {
   "cell_type": "code",
   "execution_count": null,
   "metadata": {},
   "outputs": [],
   "source": [
    "%%time\n",
    "\n",
    "scenario_ids = []\n",
    "graph_types = []\n",
    "version = \n",
    "# make sure local path already exists or else this will fail\n",
    "local_path = \n",
    "conn_str = \n",
    "\n",
    "for scenario_id in scenario_ids:\n",
    "    create_and_upload_bokeh_figs_for_scenario(\n",
    "        scenario_id, \n",
    "        graph_types, \n",
    "        BlobUtil(conn_str, 'bokeh-figures'), \n",
    "        local_path, \n",
    "        version, \n",
    "        busmap_hist)\n",
    "    "
   ]
  },
  {
   "cell_type": "code",
   "execution_count": null,
   "metadata": {},
   "outputs": [],
   "source": []
  }
 ],
 "metadata": {
  "kernelspec": {
   "display_name": "Python 3",
   "language": "python",
   "name": "python3"
  },
  "language_info": {
   "codemirror_mode": {
    "name": "ipython",
    "version": 3
   },
   "file_extension": ".py",
   "mimetype": "text/x-python",
   "name": "python",
   "nbconvert_exporter": "python",
   "pygments_lexer": "ipython3",
   "version": "3.8.3"
  },
  "varInspector": {
   "cols": {
    "lenName": 16,
    "lenType": 16,
    "lenVar": 40
   },
   "kernels_config": {
    "python": {
     "delete_cmd_postfix": "",
     "delete_cmd_prefix": "del ",
     "library": "var_list.py",
     "varRefreshCmd": "print(var_dic_list())"
    },
    "r": {
     "delete_cmd_postfix": ") ",
     "delete_cmd_prefix": "rm(",
     "library": "var_list.r",
     "varRefreshCmd": "cat(var_dic_list()) "
    }
   },
   "types_to_exclude": [
    "module",
    "function",
    "builtin_function_or_method",
    "instance",
    "_Feature"
   ],
   "window_display": false
  }
 },
 "nbformat": 4,
 "nbformat_minor": 4
}
