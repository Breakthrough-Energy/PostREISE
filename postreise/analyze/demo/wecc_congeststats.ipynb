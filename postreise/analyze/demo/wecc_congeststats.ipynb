{
 "cells": [
  {
   "cell_type": "markdown",
   "metadata": {},
   "source": [
    "# WECC Congestion Analysis\n",
    "Vicky Hunt, 9/3/19"
   ]
  },
  {
   "cell_type": "markdown",
   "metadata": {},
   "source": [
    "(excerpt from WECC Paths Report): https://www.wecc.org/Reliability/TAS_PathReports_Combined_FINAL.pdf\n",
    "\n",
    "Step 1 – Utilization Screening\n",
    "\n",
    "The utilization screening is intended to capture any highly utilized or potentially congested paths in the TEPPC study cases. Any path with a U75 for 50 percent of the year, U90 for 20 percent of the year, or U99 for five percent of the year is analyzed further. A path is defined as being ‘highly utilized’ if it meets any one of these screening criteria."
   ]
  },
  {
   "cell_type": "markdown",
   "metadata": {},
   "source": [
    "Step 2 – Qualitative WECC Review\n",
    "\n",
    "WECC qualitatively reviewed and screened out paths that showed congestion based on how the modeling was performed (e.g., localized congestion due to how new generation was added to the model that would not occur in reality). Paths that were screened out were not analyzed further but were tracked throughout the process and presented for stakeholder review. The only paths that screened out in this step were the SDG&E-CFE (Path 45) and Intermountain-to-Mona (Path 28) 345-kV Paths."
   ]
  },
  {
   "cell_type": "markdown",
   "metadata": {},
   "source": [
    "Step 3 – Conditional Congestion Score\n",
    "\n",
    "The remaining paths were scored using two normalized metrics that quantify risk, and utilization. The sum of the normalized metrics makes up the Conditional Congestion Score. If a path passed the Utilization Screening for a particular case, it was given a Conditional Congestion Score.\n",
    "\n",
    "1. The Risk metric is a summation of the flow along a path for all hours above U90 and is an indicator of how often the path is heavily loaded and how much energy could be at risk during these periods of heavy loading. This metric is shown on the Risk View of the dashboard.\n",
    "\n",
    "2. The Utilization metric is simply U90 and provides a way to compare the utilization of paths regardless of size. This metric is shown on the Utilization View of the dashboard."
   ]
  },
  {
   "cell_type": "markdown",
   "metadata": {},
   "source": [
    "In previous discussions, there has been significant dialogue regarding the terms “utilization” and “congestion,” and their use. Utilization is a term that describes the extent to which the transmission line (path) is used. Congestion is a word to describe at what time a transmission line may be over utilized. For purposes of this communication, high utilization is defined as the times when path flows are above 75 percent of the path rating (U75). Congestion occurs when the path flows are above 90 percent of the path rating (U90)."
   ]
  },
  {
   "cell_type": "code",
   "execution_count": 1,
   "metadata": {},
   "outputs": [
    {
     "name": "stderr",
     "output_type": "stream",
     "text": [
      "c:\\program files\\python37\\lib\\site-packages\\paramiko\\ecdsakey.py:164: CryptographyDeprecationWarning: Support for unsafe construction of public numbers from encoded data will be removed in a future version. Please use EllipticCurvePublicKey.from_encoded_point\n",
      "  self.ecdsa_curve.curve_class(), pointinfo\n",
      "c:\\program files\\python37\\lib\\site-packages\\paramiko\\kex_ecdh_nist.py:39: CryptographyDeprecationWarning: encode_point has been deprecated on EllipticCurvePublicNumbers and will be removed in a future version. Please use EllipticCurvePublicKey.public_bytes to obtain both compressed and uncompressed point encoding.\n",
      "  m.add_string(self.Q_C.public_numbers().encode_point())\n",
      "c:\\program files\\python37\\lib\\site-packages\\paramiko\\kex_ecdh_nist.py:96: CryptographyDeprecationWarning: Support for unsafe construction of public numbers from encoded data will be removed in a future version. Please use EllipticCurvePublicKey.from_encoded_point\n",
      "  self.curve, Q_S_bytes\n",
      "c:\\program files\\python37\\lib\\site-packages\\paramiko\\kex_ecdh_nist.py:111: CryptographyDeprecationWarning: encode_point has been deprecated on EllipticCurvePublicNumbers and will be removed in a future version. Please use EllipticCurvePublicKey.public_bytes to obtain both compressed and uncompressed point encoding.\n",
      "  hm.add_string(self.Q_C.public_numbers().encode_point())\n"
     ]
    },
    {
     "name": "stdout",
     "output_type": "stream",
     "text": [
      "SCENARIO: base | WesternBase_2016_noHVDC_cost_fix_2016opt16\n",
      "\n",
      "--> State\n",
      "analyze\n",
      "--> Loading ct\n",
      "--> Loading Western interconnect\n",
      "Loading zone\n",
      "Loading sub\n",
      "Loading bus2sub\n",
      "Loading bus\n",
      "Loading plant\n",
      "Loading plant cost\n",
      "Loading branch\n",
      "Loading DC line\n"
     ]
    }
   ],
   "source": [
    "import pandas as pd\n",
    "import numpy as np\n",
    "import csv\n",
    "import pickle \n",
    "\n",
    "from postreise.analyze import transmission\n",
    "from postreise.analyze import mapping\n",
    "from postreise.analyze import distance\n",
    "\n",
    "from powersimdata.scenario.scenario import Scenario\n",
    "from postreise.process import transferdata\n",
    "scenario = Scenario('WesternBase_2016_noHVDC_cost_fix_2016opt16')"
   ]
  },
  {
   "cell_type": "code",
   "execution_count": 8,
   "metadata": {},
   "outputs": [
    {
     "name": "stdout",
     "output_type": "stream",
     "text": [
      "--> Loading PF\n",
      "Calculating utilization\n",
      "Flaging congested branches\n",
      "Calculating branch distance\n",
      "make branch_map\n",
      "flagging\n",
      "start first maps\n",
      "Mapping\n",
      "Mapping all lines\n",
      "Mapping binding:\n"
     ]
    }
   ],
   "source": [
    "from importlib import reload\n",
    "reload(mapping)\n",
    "reload(transmission)\n",
    "cong_all, binding_df = transmission.generate_cong_stats(scenario)"
   ]
  },
  {
   "cell_type": "code",
   "execution_count": 11,
   "metadata": {
    "scrolled": true
   },
   "outputs": [
    {
     "data": {
      "text/html": [
       "<div>\n",
       "<style scoped>\n",
       "    .dataframe tbody tr th:only-of-type {\n",
       "        vertical-align: middle;\n",
       "    }\n",
       "\n",
       "    .dataframe tbody tr th {\n",
       "        vertical-align: top;\n",
       "    }\n",
       "\n",
       "    .dataframe thead th {\n",
       "        text-align: right;\n",
       "    }\n",
       "</style>\n",
       "<table border=\"1\" class=\"dataframe\">\n",
       "  <thead>\n",
       "    <tr style=\"text-align: right;\">\n",
       "      <th></th>\n",
       "      <th>capacity</th>\n",
       "      <th>branch_device_type</th>\n",
       "      <th>per_util1</th>\n",
       "      <th>per_util2</th>\n",
       "      <th>per_util3</th>\n",
       "      <th>bind</th>\n",
       "      <th>risk</th>\n",
       "      <th>uflag1</th>\n",
       "      <th>uflag2</th>\n",
       "      <th>uflag3</th>\n",
       "      <th>sumflag</th>\n",
       "      <th>dist</th>\n",
       "    </tr>\n",
       "  </thead>\n",
       "  <tbody>\n",
       "    <tr>\n",
       "      <td>88209</td>\n",
       "      <td>185.33</td>\n",
       "      <td>Line</td>\n",
       "      <td>0.0</td>\n",
       "      <td>0.0</td>\n",
       "      <td>0.0</td>\n",
       "      <td>0</td>\n",
       "      <td>0.0</td>\n",
       "      <td>0.0</td>\n",
       "      <td>0.0</td>\n",
       "      <td>0.0</td>\n",
       "      <td>0.0</td>\n",
       "      <td>67.451163</td>\n",
       "    </tr>\n",
       "    <tr>\n",
       "      <td>88210</td>\n",
       "      <td>167.88</td>\n",
       "      <td>Line</td>\n",
       "      <td>0.0</td>\n",
       "      <td>0.0</td>\n",
       "      <td>0.0</td>\n",
       "      <td>0</td>\n",
       "      <td>0.0</td>\n",
       "      <td>0.0</td>\n",
       "      <td>0.0</td>\n",
       "      <td>0.0</td>\n",
       "      <td>0.0</td>\n",
       "      <td>66.287123</td>\n",
       "    </tr>\n",
       "    <tr>\n",
       "      <td>88211</td>\n",
       "      <td>207.43</td>\n",
       "      <td>Line</td>\n",
       "      <td>0.0</td>\n",
       "      <td>0.0</td>\n",
       "      <td>0.0</td>\n",
       "      <td>0</td>\n",
       "      <td>0.0</td>\n",
       "      <td>0.0</td>\n",
       "      <td>0.0</td>\n",
       "      <td>0.0</td>\n",
       "      <td>0.0</td>\n",
       "      <td>67.686763</td>\n",
       "    </tr>\n",
       "    <tr>\n",
       "      <td>88212</td>\n",
       "      <td>170.67</td>\n",
       "      <td>Line</td>\n",
       "      <td>0.0</td>\n",
       "      <td>0.0</td>\n",
       "      <td>0.0</td>\n",
       "      <td>0</td>\n",
       "      <td>0.0</td>\n",
       "      <td>0.0</td>\n",
       "      <td>0.0</td>\n",
       "      <td>0.0</td>\n",
       "      <td>0.0</td>\n",
       "      <td>15.263467</td>\n",
       "    </tr>\n",
       "    <tr>\n",
       "      <td>88213</td>\n",
       "      <td>201.54</td>\n",
       "      <td>Line</td>\n",
       "      <td>0.0</td>\n",
       "      <td>0.0</td>\n",
       "      <td>0.0</td>\n",
       "      <td>0</td>\n",
       "      <td>0.0</td>\n",
       "      <td>0.0</td>\n",
       "      <td>0.0</td>\n",
       "      <td>0.0</td>\n",
       "      <td>0.0</td>\n",
       "      <td>21.817179</td>\n",
       "    </tr>\n",
       "    <tr>\n",
       "      <td>...</td>\n",
       "      <td>...</td>\n",
       "      <td>...</td>\n",
       "      <td>...</td>\n",
       "      <td>...</td>\n",
       "      <td>...</td>\n",
       "      <td>...</td>\n",
       "      <td>...</td>\n",
       "      <td>...</td>\n",
       "      <td>...</td>\n",
       "      <td>...</td>\n",
       "      <td>...</td>\n",
       "      <td>...</td>\n",
       "    </tr>\n",
       "    <tr>\n",
       "      <td>100910</td>\n",
       "      <td>660.89</td>\n",
       "      <td>Transformer</td>\n",
       "      <td>0.0</td>\n",
       "      <td>0.0</td>\n",
       "      <td>0.0</td>\n",
       "      <td>0</td>\n",
       "      <td>0.0</td>\n",
       "      <td>0.0</td>\n",
       "      <td>0.0</td>\n",
       "      <td>0.0</td>\n",
       "      <td>0.0</td>\n",
       "      <td>0.000000</td>\n",
       "    </tr>\n",
       "    <tr>\n",
       "      <td>100911</td>\n",
       "      <td>266.40</td>\n",
       "      <td>TransformerWinding</td>\n",
       "      <td>0.0</td>\n",
       "      <td>0.0</td>\n",
       "      <td>0.0</td>\n",
       "      <td>0</td>\n",
       "      <td>0.0</td>\n",
       "      <td>0.0</td>\n",
       "      <td>0.0</td>\n",
       "      <td>0.0</td>\n",
       "      <td>0.0</td>\n",
       "      <td>0.000000</td>\n",
       "    </tr>\n",
       "    <tr>\n",
       "      <td>100912</td>\n",
       "      <td>216.40</td>\n",
       "      <td>TransformerWinding</td>\n",
       "      <td>0.0</td>\n",
       "      <td>0.0</td>\n",
       "      <td>0.0</td>\n",
       "      <td>0</td>\n",
       "      <td>0.0</td>\n",
       "      <td>0.0</td>\n",
       "      <td>0.0</td>\n",
       "      <td>0.0</td>\n",
       "      <td>0.0</td>\n",
       "      <td>0.000000</td>\n",
       "    </tr>\n",
       "    <tr>\n",
       "      <td>100913</td>\n",
       "      <td>184.70</td>\n",
       "      <td>Line</td>\n",
       "      <td>0.0</td>\n",
       "      <td>0.0</td>\n",
       "      <td>0.0</td>\n",
       "      <td>0</td>\n",
       "      <td>0.0</td>\n",
       "      <td>0.0</td>\n",
       "      <td>0.0</td>\n",
       "      <td>0.0</td>\n",
       "      <td>0.0</td>\n",
       "      <td>0.709100</td>\n",
       "    </tr>\n",
       "    <tr>\n",
       "      <td>100914</td>\n",
       "      <td>50.00</td>\n",
       "      <td>TransformerWinding</td>\n",
       "      <td>0.0</td>\n",
       "      <td>0.0</td>\n",
       "      <td>0.0</td>\n",
       "      <td>0</td>\n",
       "      <td>0.0</td>\n",
       "      <td>0.0</td>\n",
       "      <td>0.0</td>\n",
       "      <td>0.0</td>\n",
       "      <td>0.0</td>\n",
       "      <td>0.000000</td>\n",
       "    </tr>\n",
       "  </tbody>\n",
       "</table>\n",
       "<p>12706 rows × 12 columns</p>\n",
       "</div>"
      ],
      "text/plain": [
       "        capacity  branch_device_type  per_util1  per_util2  per_util3  bind  \\\n",
       "88209   185.33    Line                0.0        0.0        0.0        0      \n",
       "88210   167.88    Line                0.0        0.0        0.0        0      \n",
       "88211   207.43    Line                0.0        0.0        0.0        0      \n",
       "88212   170.67    Line                0.0        0.0        0.0        0      \n",
       "88213   201.54    Line                0.0        0.0        0.0        0      \n",
       "...        ...     ...                ...        ...        ...       ..      \n",
       "100910  660.89    Transformer         0.0        0.0        0.0        0      \n",
       "100911  266.40    TransformerWinding  0.0        0.0        0.0        0      \n",
       "100912  216.40    TransformerWinding  0.0        0.0        0.0        0      \n",
       "100913  184.70    Line                0.0        0.0        0.0        0      \n",
       "100914  50.00     TransformerWinding  0.0        0.0        0.0        0      \n",
       "\n",
       "        risk  uflag1  uflag2  uflag3  sumflag       dist  \n",
       "88209   0.0   0.0     0.0     0.0     0.0      67.451163  \n",
       "88210   0.0   0.0     0.0     0.0     0.0      66.287123  \n",
       "88211   0.0   0.0     0.0     0.0     0.0      67.686763  \n",
       "88212   0.0   0.0     0.0     0.0     0.0      15.263467  \n",
       "88213   0.0   0.0     0.0     0.0     0.0      21.817179  \n",
       "...     ...   ...     ...     ...     ...            ...  \n",
       "100910  0.0   0.0     0.0     0.0     0.0      0.000000   \n",
       "100911  0.0   0.0     0.0     0.0     0.0      0.000000   \n",
       "100912  0.0   0.0     0.0     0.0     0.0      0.000000   \n",
       "100913  0.0   0.0     0.0     0.0     0.0      0.709100   \n",
       "100914  0.0   0.0     0.0     0.0     0.0      0.000000   \n",
       "\n",
       "[12706 rows x 12 columns]"
      ]
     },
     "execution_count": 11,
     "metadata": {},
     "output_type": "execute_result"
    }
   ],
   "source": [
    "cong_all"
   ]
  },
  {
   "cell_type": "code",
   "execution_count": 9,
   "metadata": {},
   "outputs": [
    {
     "data": {
      "text/plain": [
       "<matplotlib.axes._subplots.AxesSubplot at 0x2bfb75a2cf8>"
      ]
     },
     "execution_count": 9,
     "metadata": {},
     "output_type": "execute_result"
    },
    {
     "data": {
      "image/png": "[encoded data removed]",
      "text/plain": [
       "<Figure size 432x288 with 1 Axes>"
      ]
     },
     "metadata": {
      "needs_background": "light"
     },
     "output_type": "display_data"
    }
   ],
   "source": [
    "#kernel density plot\n",
    "s = cong_all.per_util1\n",
    "s.plot.kde()"
   ]
  }
 ],
 "metadata": {
  "kernelspec": {
   "display_name": "Python 3",
   "language": "python",
   "name": "python3"
  },
  "language_info": {
   "codemirror_mode": {
    "name": "ipython",
    "version": 3
   },
   "file_extension": ".py",
   "mimetype": "text/x-python",
   "name": "python",
   "nbconvert_exporter": "python",
   "pygments_lexer": "ipython3",
   "version": "3.7.3"
  }
 },
 "nbformat": 4,
 "nbformat_minor": 2
}
