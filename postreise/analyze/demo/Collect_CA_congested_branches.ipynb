{
 "cells": [
  {
   "cell_type": "markdown",
   "metadata": {},
   "source": [
    "### Notebook used to generate list of congested CA branches, for use in scenario where CA (only) fixes its congested lines."
   ]
  },
  {
   "cell_type": "code",
   "execution_count": 1,
   "metadata": {},
   "outputs": [],
   "source": [
    "import numpy as np\n",
    "import pandas as pd\n",
    "\n",
    "import os\n",
    "import sys\n",
    "sys.path.append(\"..\")\n",
    "\n",
    "import westernintnet"
   ]
  },
  {
   "cell_type": "code",
   "execution_count": 2,
   "metadata": {},
   "outputs": [
    {
     "name": "stdout",
     "output_type": "stream",
     "text": [
      "Loading sub\n",
      "Loading bus2sub\n",
      "Loading bus\n",
      "Loading genbus\n",
      "Loading branches\n",
      "Loading resources\n",
      "Loading net_generation\n",
      "Load solar data\n",
      "Load wind data\n",
      "Load hydro data\n",
      "Load demand data\n",
      "Done loading\n"
     ]
    }
   ],
   "source": [
    "wecc = westernintnet.WesternIntNet()"
   ]
  },
  {
   "cell_type": "code",
   "execution_count": 3,
   "metadata": {},
   "outputs": [],
   "source": [
    "CA_zones = [3,4,5,6,7]\n",
    "CA_buses = wecc.bus.loc[wecc.bus['area'].isin(CA_zones)]\n",
    "CA_branches = wecc.branches.loc[(wecc.branches['tbus'].isin(CA_buses['busID'])) \n",
    "                              & (wecc.branches['fbus'].isin(CA_buses['busID']))]\n",
    "\n",
    "fix_list = ['california2020Test01','california2030Test01']"
   ]
  },
  {
   "cell_type": "code",
   "execution_count": 4,
   "metadata": {},
   "outputs": [],
   "source": [
    "datadir = os.path.join('..','data/')\n",
    "congestion_dfs = {}\n",
    "for s in fix_list:\n",
    "    congestion_source = datadir + 'congestion_' + s +'.csv'\n",
    "    congestion_dfs[s] = pd.read_csv(congestion_source)\n",
    "    "
   ]
  },
  {
   "cell_type": "code",
   "execution_count": 5,
   "metadata": {},
   "outputs": [
    {
     "name": "stdout",
     "output_type": "stream",
     "text": [
      "california2020Test01 51\n",
      "california2030Test01 129\n"
     ]
    }
   ],
   "source": [
    "CA_fix_congestion = {}\n",
    "for s in fix_list:\n",
    "    CA_fix_congestion[s] = congestion_dfs[s].loc[(congestion_dfs[s]['line'].isin(CA_branches.index)) \n",
    "                                                 & (congestion_dfs[s]['zscore']>=1)]\n",
    "    filename = datadir + 'congestion_CA_only_' + s + '_zscore_gte_1.csv'\n",
    "    if not os.path.exists(filename):\n",
    "        CA_fix_congestion[s].to_csv(filename)\n",
    "        \n",
    "    print(s, len(CA_fix_congestion[s]))"
   ]
  },
  {
   "cell_type": "markdown",
   "metadata": {},
   "source": [
    "#### Extra stats"
   ]
  },
  {
   "cell_type": "code",
   "execution_count": 6,
   "metadata": {
    "scrolled": false
   },
   "outputs": [
    {
     "name": "stdout",
     "output_type": "stream",
     "text": [
      "california2020Test01\n",
      "         Capacity  hutil>=0p75   hutil>=0p9       hutil1  pvalue\n",
      "count   35.000000    35.000000    35.000000    35.000000    35.0\n",
      "mean   134.742857  2530.600000  1013.371429   791.657143     0.0\n",
      "std    149.593241  1969.268873  1417.939310  1227.698180     0.0\n",
      "min      8.000000   120.000000     0.000000     0.000000     0.0\n",
      "25%     17.500000  1098.000000     0.000000     0.000000     0.0\n",
      "50%    103.000000  1790.000000   104.000000     0.000000     0.0\n",
      "75%    172.500000  3557.000000  3187.000000  2194.500000     0.0\n",
      "max    594.000000  8774.000000  3216.000000  2894.000000     0.0\n",
      "          Capacity  hutil>=0p75  hutil>=0p9  hutil1       dist        pvalue\n",
      "count    16.000000    16.000000   16.000000  16.000  16.000000  1.600000e+01\n",
      "mean    310.937500   623.125000    3.062500   0.125  18.419250  1.289085e-03\n",
      "std     246.364897   851.177997    4.479118   0.500  15.486764  5.126887e-03\n",
      "min     191.000000    41.000000    0.000000   0.000   0.846000  0.000000e+00\n",
      "25%     239.250000    66.750000    0.000000   0.000   6.752000  0.000000e+00\n",
      "50%     253.500000   161.000000    1.000000   0.000  14.456500  0.000000e+00\n",
      "75%     271.250000   789.250000    5.500000   0.000  26.313500  1.545707e-10\n",
      "max    1229.000000  2693.000000   15.000000   2.000  47.094000  2.051463e-02\n",
      "\n",
      "california2030Test01\n",
      "          Capacity  hutil>=0p75   hutil>=0p9       hutil1     pvalue\n",
      "count    73.000000    73.000000    73.000000    73.000000  73.000000\n",
      "mean    132.863014  2376.479452  1283.863014   735.616438   0.000013\n",
      "std     193.282990  1527.846652  1341.103011  1060.142596   0.000112\n",
      "min       8.000000    90.000000     0.000000     0.000000   0.000000\n",
      "25%      40.000000  1490.000000    46.000000     0.000000   0.000000\n",
      "50%      70.000000  2077.000000  1037.000000   127.000000   0.000000\n",
      "75%     131.000000  2982.000000  2175.000000  1341.000000   0.000000\n",
      "max    1285.000000  8556.000000  4073.000000  3752.000000   0.000954\n",
      "          Capacity  hutil>=0p75   hutil>=0p9       hutil1        dist  \\\n",
      "count    56.000000    56.000000    56.000000    56.000000   56.000000   \n",
      "mean    395.732143   952.714286   300.142857    78.946429   16.900054   \n",
      "std     603.719607  1175.913103   660.851364   322.646129   25.934312   \n",
      "min     156.000000    75.000000     0.000000     0.000000    0.082000   \n",
      "25%     220.250000   131.500000     0.000000     0.000000    2.791000   \n",
      "50%     245.500000   389.000000     6.500000     0.000000    7.471500   \n",
      "75%     260.250000   961.750000   183.250000     2.500000   20.450500   \n",
      "max    4276.000000  3889.000000  3251.000000  2127.000000  166.284000   \n",
      "\n",
      "             pvalue  \n",
      "count  5.600000e+01  \n",
      "mean   2.326177e-03  \n",
      "std    1.456211e-02  \n",
      "min    0.000000e+00  \n",
      "25%    0.000000e+00  \n",
      "50%    0.000000e+00  \n",
      "75%    8.326673e-17  \n",
      "max    1.079272e-01  \n",
      "\n"
     ]
    }
   ],
   "source": [
    "# How many are transmission lines? Less than half are transmission lines?!?\n",
    "for s in fix_list:\n",
    "    print(s)\n",
    "    print(CA_fix_congestion[s].loc[CA_fix_congestion[s]['dist']==0][['Capacity','hutil>=0p75','hutil>=0p9','hutil1','pvalue']].describe())\n",
    "    print(CA_fix_congestion[s].loc[CA_fix_congestion[s]['dist']>0][['Capacity','hutil>=0p75','hutil>=0p9','hutil1','dist','pvalue']].describe())\n",
    "    print()\n",
    "    "
   ]
  },
  {
   "cell_type": "code",
   "execution_count": 10,
   "metadata": {},
   "outputs": [
    {
     "data": {
      "text/html": [
       "<div>\n",
       "<style scoped>\n",
       "    .dataframe tbody tr th:only-of-type {\n",
       "        vertical-align: middle;\n",
       "    }\n",
       "\n",
       "    .dataframe tbody tr th {\n",
       "        vertical-align: top;\n",
       "    }\n",
       "\n",
       "    .dataframe thead th {\n",
       "        text-align: right;\n",
       "    }\n",
       "</style>\n",
       "<table border=\"1\" class=\"dataframe\">\n",
       "  <thead>\n",
       "    <tr style=\"text-align: right;\">\n",
       "      <th></th>\n",
       "      <th>line</th>\n",
       "      <th>Capacity</th>\n",
       "      <th>hutil1</th>\n",
       "      <th>hutil0p9-1</th>\n",
       "      <th>hutil0p8-0p9</th>\n",
       "      <th>hutil0p75-0p8</th>\n",
       "      <th>hutil&gt;=0p9</th>\n",
       "      <th>hutil&gt;=0p8</th>\n",
       "      <th>hutil&gt;=0p75</th>\n",
       "      <th>dist</th>\n",
       "      <th>zscore</th>\n",
       "      <th>pvalue</th>\n",
       "    </tr>\n",
       "  </thead>\n",
       "  <tbody>\n",
       "    <tr>\n",
       "      <th>2707</th>\n",
       "      <td>2707</td>\n",
       "      <td>95</td>\n",
       "      <td>199</td>\n",
       "      <td>909</td>\n",
       "      <td>547</td>\n",
       "      <td>262</td>\n",
       "      <td>1108</td>\n",
       "      <td>1655</td>\n",
       "      <td>1917</td>\n",
       "      <td>0.0</td>\n",
       "      <td>230.463831</td>\n",
       "      <td>0.000000e+00</td>\n",
       "    </tr>\n",
       "    <tr>\n",
       "      <th>2708</th>\n",
       "      <td>2708</td>\n",
       "      <td>59</td>\n",
       "      <td>0</td>\n",
       "      <td>0</td>\n",
       "      <td>12</td>\n",
       "      <td>111</td>\n",
       "      <td>0</td>\n",
       "      <td>12</td>\n",
       "      <td>123</td>\n",
       "      <td>0.0</td>\n",
       "      <td>7.210948</td>\n",
       "      <td>2.777778e-13</td>\n",
       "    </tr>\n",
       "    <tr>\n",
       "      <th>2763</th>\n",
       "      <td>2763</td>\n",
       "      <td>70</td>\n",
       "      <td>2</td>\n",
       "      <td>133</td>\n",
       "      <td>750</td>\n",
       "      <td>417</td>\n",
       "      <td>135</td>\n",
       "      <td>885</td>\n",
       "      <td>1302</td>\n",
       "      <td>0.0</td>\n",
       "      <td>153.930652</td>\n",
       "      <td>0.000000e+00</td>\n",
       "    </tr>\n",
       "    <tr>\n",
       "      <th>2764</th>\n",
       "      <td>2764</td>\n",
       "      <td>29</td>\n",
       "      <td>386</td>\n",
       "      <td>869</td>\n",
       "      <td>491</td>\n",
       "      <td>213</td>\n",
       "      <td>1255</td>\n",
       "      <td>1746</td>\n",
       "      <td>1959</td>\n",
       "      <td>0.0</td>\n",
       "      <td>235.690487</td>\n",
       "      <td>0.000000e+00</td>\n",
       "    </tr>\n",
       "    <tr>\n",
       "      <th>2771</th>\n",
       "      <td>2771</td>\n",
       "      <td>70</td>\n",
       "      <td>22</td>\n",
       "      <td>289</td>\n",
       "      <td>860</td>\n",
       "      <td>319</td>\n",
       "      <td>311</td>\n",
       "      <td>1171</td>\n",
       "      <td>1490</td>\n",
       "      <td>0.0</td>\n",
       "      <td>177.326160</td>\n",
       "      <td>0.000000e+00</td>\n",
       "    </tr>\n",
       "  </tbody>\n",
       "</table>\n",
       "</div>"
      ],
      "text/plain": [
       "      line  Capacity  hutil1  hutil0p9-1  hutil0p8-0p9  hutil0p75-0p8  \\\n",
       "2707  2707        95     199         909           547            262   \n",
       "2708  2708        59       0           0            12            111   \n",
       "2763  2763        70       2         133           750            417   \n",
       "2764  2764        29     386         869           491            213   \n",
       "2771  2771        70      22         289           860            319   \n",
       "\n",
       "      hutil>=0p9  hutil>=0p8  hutil>=0p75  dist      zscore        pvalue  \n",
       "2707        1108        1655         1917   0.0  230.463831  0.000000e+00  \n",
       "2708           0          12          123   0.0    7.210948  2.777778e-13  \n",
       "2763         135         885         1302   0.0  153.930652  0.000000e+00  \n",
       "2764        1255        1746         1959   0.0  235.690487  0.000000e+00  \n",
       "2771         311        1171         1490   0.0  177.326160  0.000000e+00  "
      ]
     },
     "execution_count": 10,
     "metadata": {},
     "output_type": "execute_result"
    }
   ],
   "source": [
    "CA_fix_congestion['california2030Test01'].loc[CA_fix_congestion['california2030Test01']['dist']==0].head()"
   ]
  },
  {
   "cell_type": "code",
   "execution_count": 11,
   "metadata": {},
   "outputs": [
    {
     "data": {
      "text/plain": [
       "fbus            20305\n",
       "tbus            20306\n",
       "r            0.005847\n",
       "x            0.159874\n",
       "b                   0\n",
       "rateA           95.46\n",
       "rateB               0\n",
       "rateC               0\n",
       "ratio               1\n",
       "angle               0\n",
       "status              1\n",
       "angmin              0\n",
       "angmax              0\n",
       "Pf             -43.97\n",
       "Qf               2.98\n",
       "Pt              44.08\n",
       "Qt                  0\n",
       "mu_Sf               0\n",
       "mu_St               0\n",
       "mu_angmin           0\n",
       "mu_angmax     0.0000;\n",
       "from_lat      38.8348\n",
       "from_lon     -122.768\n",
       "to_lat        38.8348\n",
       "to_lon       -122.768\n",
       "Name: 2707, dtype: object"
      ]
     },
     "execution_count": 11,
     "metadata": {},
     "output_type": "execute_result"
    }
   ],
   "source": [
    "wecc.branches.loc[2707]"
   ]
  },
  {
   "cell_type": "code",
   "execution_count": null,
   "metadata": {},
   "outputs": [],
   "source": []
  }
 ],
 "metadata": {
  "kernelspec": {
   "display_name": "Python 3",
   "language": "python",
   "name": "python3"
  },
  "language_info": {
   "codemirror_mode": {
    "name": "ipython",
    "version": 3
   },
   "file_extension": ".py",
   "mimetype": "text/x-python",
   "name": "python",
   "nbconvert_exporter": "python",
   "pygments_lexer": "ipython3",
   "version": "3.7.1"
  }
 },
 "nbformat": 4,
 "nbformat_minor": 2
}
