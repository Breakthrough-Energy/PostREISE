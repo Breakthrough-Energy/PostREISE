{
 "cells": [
  {
   "cell_type": "markdown",
   "metadata": {},
   "source": [
    "### Notebook used to generate list of congested CA branches, for use in scenario where CA (only) fixes its congested lines."
   ]
  },
  {
   "cell_type": "code",
   "execution_count": 1,
   "metadata": {},
   "outputs": [],
   "source": [
    "import numpy as np\n",
    "import pandas as pd\n",
    "\n",
    "import os\n",
    "import sys\n",
    "sys.path.append(\"..\")\n",
    "\n",
    "import westernintnet"
   ]
  },
  {
   "cell_type": "code",
   "execution_count": 2,
   "metadata": {},
   "outputs": [
    {
     "name": "stdout",
     "output_type": "stream",
     "text": [
      "Loading sub\n",
      "Loading bus2sub\n",
      "Loading bus\n",
      "Loading genbus\n",
      "Loading branches\n",
      "Loading resources\n",
      "Loading net_generation\n",
      "Load solar data\n",
      "Load wind data\n",
      "Load hydro data\n",
      "Load demand data\n",
      "Done loading\n"
     ]
    }
   ],
   "source": [
    "wecc = westernintnet.WesternIntNet()"
   ]
  },
  {
   "cell_type": "code",
   "execution_count": 3,
   "metadata": {},
   "outputs": [],
   "source": [
    "CA_zones = [3,4,5,6,7]\n",
    "CA_buses = wecc.bus.loc[wecc.bus['area'].isin(CA_zones)]\n",
    "CA_branches = wecc.branches.loc[(wecc.branches['tbus'].isin(CA_buses['busID'])) \n",
    "                              & (wecc.branches['fbus'].isin(CA_buses['busID']))]\n",
    "\n",
    "fix_list = ['california2020Test01','california2030Test01']"
   ]
  },
  {
   "cell_type": "code",
   "execution_count": 4,
   "metadata": {},
   "outputs": [],
   "source": [
    "datadir = os.path.join('..','data/')\n",
    "congestion_dfs = {}\n",
    "for s in fix_list:\n",
    "    congestion_source = datadir + 'congestion_' + s +'.csv'\n",
    "    congestion_dfs[s] = pd.read_csv(congestion_source)\n",
    "    "
   ]
  },
  {
   "cell_type": "code",
   "execution_count": 5,
   "metadata": {},
   "outputs": [
    {
     "name": "stdout",
     "output_type": "stream",
     "text": [
      "california2020Test01 51\n",
      "california2030Test01 129\n"
     ]
    }
   ],
   "source": [
    "CA_fix_congestion = {}\n",
    "for s in fix_list:\n",
    "    CA_fix_congestion[s] = congestion_dfs[s].loc[(congestion_dfs[s]['line'].isin(CA_branches.index)) \n",
    "                                                 & (congestion_dfs[s]['zscore']>=1)]\n",
    "    filename = datadir + 'congestion_CA_only_' + s + '_zscore_gte_1.csv'\n",
    "    if not os.path.exists(filename):\n",
    "        CA_fix_congestion[s].to_csv(filename)\n",
    "        \n",
    "    print(s, len(CA_fix_congestion[s]))"
   ]
  }
 ],
 "metadata": {
  "kernelspec": {
   "display_name": "Python 3",
   "language": "python",
   "name": "python3"
  },
  "language_info": {
   "codemirror_mode": {
    "name": "ipython",
    "version": 3
   },
   "file_extension": ".py",
   "mimetype": "text/x-python",
   "name": "python",
   "nbconvert_exporter": "python",
   "pygments_lexer": "ipython3",
   "version": "3.7.1"
  }
 },
 "nbformat": 4,
 "nbformat_minor": 2
}
