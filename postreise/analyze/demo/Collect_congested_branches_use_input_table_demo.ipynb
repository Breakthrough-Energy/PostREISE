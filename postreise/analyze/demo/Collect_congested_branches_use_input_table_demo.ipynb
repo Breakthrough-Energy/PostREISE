{
 "cells": [
  {
   "cell_type": "markdown",
   "metadata": {},
   "source": [
    "### Notebook used to generate list of congested branches: read requirements from input table, then generate desired output and copy to accessible location. "
   ]
  },
  {
   "cell_type": "code",
   "execution_count": 1,
   "metadata": {},
   "outputs": [
    {
     "name": "stdout",
     "output_type": "stream",
     "text": [
      "Loading sub\n",
      "Loading bus2sub\n",
      "Loading bus\n",
      "Loading genbus\n",
      "Loading branches\n",
      "Loading resources\n",
      "Loading net_generation\n",
      "Done loading\n"
     ]
    }
   ],
   "source": [
    "import numpy as np\n",
    "import pandas as pd\n",
    "\n",
    "import os\n",
    "import sys\n",
    "sys.path.append(\"..\")\n",
    "\n",
    "from westernintnet.westernintnet import win_data"
   ]
  },
  {
   "cell_type": "code",
   "execution_count": 2,
   "metadata": {},
   "outputs": [],
   "source": [
    "wecc = win_data"
   ]
  },
  {
   "cell_type": "markdown",
   "metadata": {},
   "source": [
    "* Read info file: table defines what input files go into the branch filter process and what outputfilenames should be\n",
    "* Note that the File_Location can also be where files can be accessed by other programs, and may not be same as datadir\n"
   ]
  },
  {
   "cell_type": "code",
   "execution_count": 3,
   "metadata": {},
   "outputs": [],
   "source": [
    "datadir = os.path.join('..','data/')\n",
    "infofile_name = 'TransmissionCongestionInfo' + '.csv'\n",
    "df = pd.read_csv(os.path.join(datadir, infofile_name), header=0, index_col = 'ID')"
   ]
  },
  {
   "cell_type": "code",
   "execution_count": 4,
   "metadata": {},
   "outputs": [
    {
     "data": {
      "text/html": [
       "<div>\n",
       "<style scoped>\n",
       "    .dataframe tbody tr th:only-of-type {\n",
       "        vertical-align: middle;\n",
       "    }\n",
       "\n",
       "    .dataframe tbody tr th {\n",
       "        vertical-align: top;\n",
       "    }\n",
       "\n",
       "    .dataframe thead th {\n",
       "        text-align: right;\n",
       "    }\n",
       "</style>\n",
       "<table border=\"1\" class=\"dataframe\">\n",
       "  <thead>\n",
       "    <tr style=\"text-align: right;\">\n",
       "      <th></th>\n",
       "      <th>Source_Scenario_ID</th>\n",
       "      <th>Congestion_Model</th>\n",
       "      <th>Model_Region</th>\n",
       "      <th>Selected_Region</th>\n",
       "      <th>File_Location</th>\n",
       "      <th>Filename</th>\n",
       "    </tr>\n",
       "    <tr>\n",
       "      <th>ID</th>\n",
       "      <th></th>\n",
       "      <th></th>\n",
       "      <th></th>\n",
       "      <th></th>\n",
       "      <th></th>\n",
       "      <th></th>\n",
       "    </tr>\n",
       "  </thead>\n",
       "  <tbody>\n",
       "    <tr>\n",
       "      <th>1</th>\n",
       "      <td>california2020Test01</td>\n",
       "      <td>Binomial</td>\n",
       "      <td>WECC</td>\n",
       "      <td>CA</td>\n",
       "      <td>L/RenewableEnergy/EnergyGridModeling/Data/West...</td>\n",
       "      <td>congestion_CA_only_california2020Test01_zscore...</td>\n",
       "    </tr>\n",
       "    <tr>\n",
       "      <th>2</th>\n",
       "      <td>california2030Test01</td>\n",
       "      <td>Binomial</td>\n",
       "      <td>WECC</td>\n",
       "      <td>CA</td>\n",
       "      <td>L/RenewableEnergy/EnergyGridModeling/Data/West...</td>\n",
       "      <td>congestion_CA_only_california2030Test01_zscore...</td>\n",
       "    </tr>\n",
       "  </tbody>\n",
       "</table>\n",
       "</div>"
      ],
      "text/plain": [
       "      Source_Scenario_ID Congestion_Model Model_Region Selected_Region  \\\n",
       "ID                                                                       \n",
       "1   california2020Test01         Binomial         WECC              CA   \n",
       "2   california2030Test01         Binomial         WECC              CA   \n",
       "\n",
       "                                        File_Location  \\\n",
       "ID                                                      \n",
       "1   L/RenewableEnergy/EnergyGridModeling/Data/West...   \n",
       "2   L/RenewableEnergy/EnergyGridModeling/Data/West...   \n",
       "\n",
       "                                             Filename  \n",
       "ID                                                     \n",
       "1   congestion_CA_only_california2020Test01_zscore...  \n",
       "2   congestion_CA_only_california2030Test01_zscore...  "
      ]
     },
     "execution_count": 4,
     "metadata": {},
     "output_type": "execute_result"
    }
   ],
   "source": [
    "df.head()"
   ]
  },
  {
   "cell_type": "code",
   "execution_count": 5,
   "metadata": {},
   "outputs": [],
   "source": [
    "# Filter by zone; sample - here, filter by CA\n",
    "# To do: generalize to any zone; needs a lookup table for region-loadzone designation.\n",
    "\n",
    "CA_zones = [3,4,5,6,7]\n",
    "CA_buses = wecc.bus.loc[wecc.bus['area'].isin(CA_zones)]\n",
    "CA_branches = wecc.branches.loc[(wecc.branches['tbus'].isin(CA_buses['busID'])) \n",
    "                              & (wecc.branches['fbus'].isin(CA_buses['busID']))]\n",
    "\n",
    "fix_list = df.Source_Scenario_ID.tolist()"
   ]
  },
  {
   "cell_type": "code",
   "execution_count": 7,
   "metadata": {},
   "outputs": [
    {
     "name": "stdout",
     "output_type": "stream",
     "text": [
      "california2020Test01 51\n",
      "california2030Test01 129\n"
     ]
    }
   ],
   "source": [
    "congestion_dfs = {}\n",
    "CA_fix_congestion = {}\n",
    "\n",
    "# To do: Currently, i and s are interchangeable indexes; \n",
    "# eventually, s may be used as source scenario for other outputs\n",
    "\n",
    "for i in df.index:\n",
    "    s = df.loc[i]['Source_Scenario_ID']\n",
    "    congestion_source = datadir + 'congestion_' + s +'.csv'\n",
    "    congestion_dfs[s] = pd.read_csv(congestion_source)  \n",
    "    CA_fix_congestion[s] = congestion_dfs[s].loc[(congestion_dfs[s]['line'].isin(CA_branches.index)) \n",
    "                                                 & (congestion_dfs[s]['zscore']>=1)]\n",
    "    out_filename1 = datadir + df.loc[i]['Filename']  \n",
    "    \n",
    "    # group-accessible folder\n",
    "    out_filename2 = df.loc[i]['File_Location'] + df.loc[i]['Filename']  \n",
    "\n",
    "    if not os.path.exists(out_filename1):\n",
    "        CA_fix_congestion[s].to_csv(out_filename1)\n",
    "    \n",
    "    #To do: \n",
    "    # Copy to group accessible server folder\n",
    "    # Put in a check for whether the server L folder is mounted\n",
    "    #if not os.path.exists(out_filename2):\n",
    "    #    CA_fix_congestion[s].to_csv(out_filename2)\n",
    "                \n",
    "    print(s, len(CA_fix_congestion[s]))"
   ]
  },
  {
   "cell_type": "code",
   "execution_count": null,
   "metadata": {},
   "outputs": [],
   "source": []
  }
 ],
 "metadata": {
  "kernelspec": {
   "display_name": "Python 3",
   "language": "python",
   "name": "python3"
  },
  "language_info": {
   "codemirror_mode": {
    "name": "ipython",
    "version": 3
   },
   "file_extension": ".py",
   "mimetype": "text/x-python",
   "name": "python",
   "nbconvert_exporter": "python",
   "pygments_lexer": "ipython3",
   "version": "3.6.5"
  }
 },
 "nbformat": 4,
 "nbformat_minor": 2
}
