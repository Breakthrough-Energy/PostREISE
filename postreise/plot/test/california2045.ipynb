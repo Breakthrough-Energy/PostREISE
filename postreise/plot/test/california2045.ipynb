{
 "cells": [
  {
   "cell_type": "markdown",
   "metadata": {},
   "source": [
    "# California 2045\n",
    "---\n",
    "Plots in the slide deck presented to Nathan on 11/27/2018 have been generated through this notebook.\n",
    "\n",
    "[Base Case](#base)\n",
    "1. [Chart](#base_chart)\n",
    "2. [Stacked plots](#base_stack)\n",
    "3. [Curtailment plots](#base_curtailment)\n",
    "\n",
    "\n",
    "[California 2020](#ca2020)\n",
    "1. [Chart](#ca2020_chart)\n",
    "2. [Stacked plots](#ca2020_stack)\n",
    "3. [Curtailment plots](#ca2020_curtailment)\n",
    "\n",
    "\n",
    "[Congestion 2020](#congestion2020)\n",
    "1. [Chart](#congestion2020_chart)\n",
    "2. [Stacked plots](#congestion2020_stack)\n",
    "3. [Curtailment plots](#comgestion2020_curtailment)\n",
    "\n",
    "\n",
    "[California 2030](#ca2030)\n",
    "1. [Chart](#ca2030_chart)\n",
    "2. [Stacked plots](#ca2030_stack)\n",
    "3. [Curtailment plots](#ca2030_curtailment)\n",
    "\n",
    "\n",
    "[Congestion 2030](#congestion2030)\n",
    "1. [Chart](#congestion2030_chart)\n",
    "2. [Stacked plots](#congestion2030_stack)\n",
    "3. [Curtailment plots](#comgestion2030_curtailment)\n",
    "\n",
    "\n",
    "[West 2020](#west2020)\n",
    "1. [Chart](#west2020_chart)\n",
    "2. [Stacked plots](#west2020_stack)\n",
    "3. [Curtailment plots](#west2020_curtailment)\n",
    "\n",
    "\n",
    "[West 2030](#west2030)\n",
    "1. [Chart](#west2030_chart)\n",
    "2. [Stacked plots](#west2030_stack)\n",
    "3. [Curtailment plots](#west2030_curtailment)"
   ]
  },
  {
   "cell_type": "code",
   "execution_count": null,
   "metadata": {},
   "outputs": [],
   "source": [
    "import sys\n",
    "sys.path.append(\"../../\")"
   ]
  },
  {
   "cell_type": "code",
   "execution_count": null,
   "metadata": {},
   "outputs": [],
   "source": [
    "import analyze\n",
    "from plot.analyze_pg import AnalyzePG\n",
    "from westernintnet.westernintnet import win_data\n",
    "import pandas as pd\n",
    "import matplotlib.pyplot as plt\n",
    "plt.ioff()"
   ]
  },
  {
   "cell_type": "markdown",
   "metadata": {},
   "source": [
    "Download data from server. This needs to be done once per scenario. Since this procedure is lengthy, the data are saved locally as a pickle file."
   ]
  },
  {
   "cell_type": "markdown",
   "metadata": {},
   "source": [
    "sftp = analyze.setup_server_connection(\"U:\\\\.ssh\\\\id_rsa\")  \n",
    "scenario_list = analyze.get_scenario_file_from_server(sftp)\n",
    "scenario = 'california2030_westTarget'\n",
    "\"\"\"  \n",
    "scenario = 'california2020_westTarget'  \n",
    "scenario = 'california2030_fixCalCong'  \n",
    "scenario = 'california2020_fixCalCong'  \n",
    "scenario = 'california2030Test01'  \n",
    "scenario = 'california2020Test01'  \n",
    "scenario = 'western_scenario_Update01'  \n",
    "\"\"\"  \n",
    "print('scenario: %s' % scenario)  \n",
    "PG = analyze.get_PG(sftp, scenario_list, scenario)  \n",
    "PG.to_pickle('U:\\\\PGData\\\\California_Nov2018\\\\PG_CA2030_WestTarget.pkl')"
   ]
  },
  {
   "cell_type": "code",
   "execution_count": null,
   "metadata": {},
   "outputs": [],
   "source": [
    "def get_plant_id(zone, resource):\n",
    "    plant_id = []\n",
    "    if zone == 'Western':\n",
    "        try:\n",
    "            plant_id = win_data.genbus.groupby('type').get_group(resource).index.values.tolist()\n",
    "        except KeyError:\n",
    "            pass\n",
    "    elif zone == 'California':\n",
    "        CA = ['Bay Area', 'Central California', 'Northern California',\n",
    "                'Southeast California', 'Southwest California']\n",
    "        for load_zone in CA:\n",
    "            try:\n",
    "                plant_id += win_data.genbus.groupby(['ZoneName', 'type']).get_group(\n",
    "                    (load_zone, resource)).index.values.tolist()\n",
    "            except KeyError:\n",
    "                pass\n",
    "    else:\n",
    "        try:\n",
    "            plant_id = win_data.genbus.groupby(['ZoneName', 'type']).get_group(\n",
    "                (zone, resource)).index.values.tolist()\n",
    "        except KeyError:\n",
    "            pass\n",
    "    \n",
    "    return plant_id"
   ]
  },
  {
   "cell_type": "markdown",
   "metadata": {},
   "source": [
    "## Base Case\n",
    "<a id=\"base\"></a>\n",
    "Multiperiod  \n",
    "Solar power: SAM  \n",
    "demand v3  \n",
    "No multiplier for any of the generator in the grid"
   ]
  },
  {
   "cell_type": "code",
   "execution_count": null,
   "metadata": {},
   "outputs": [],
   "source": [
    "win_data.read_demand_data('v3')\n",
    "win_data.read_solar_data('sam')\n",
    "win_data.read_wind_data()"
   ]
  },
  {
   "cell_type": "code",
   "execution_count": null,
   "metadata": {},
   "outputs": [],
   "source": [
    "multiplier = pd.DataFrame({'multiplier': [1]*len(win_data.genbus)}, index=win_data.genbus.index.values)"
   ]
  },
  {
   "cell_type": "code",
   "execution_count": null,
   "metadata": {},
   "outputs": [],
   "source": [
    "PG = pd.read_pickle('U:\\\\PGData\\\\California_Nov2018\\\\PG.pkl')"
   ]
  },
  {
   "cell_type": "markdown",
   "metadata": {},
   "source": [
    "### 1. Charts\n",
    "<a id=\"base_chart\"></a>"
   ]
  },
  {
   "cell_type": "code",
   "execution_count": null,
   "metadata": {
    "scrolled": false
   },
   "outputs": [],
   "source": [
    "chart = AnalyzePG((PG, win_data, multiplier),\n",
    "    ('2016-01-01-00', '2016-12-31-23', 'utc', 'H'),\n",
    "    ['California', 'Western'],\n",
    "    ['nuclear', 'hydro', 'coal', 'ng', 'solar', 'wind'],\n",
    "    'chart', normalize=False)\n",
    "chart.get_plot(save=True)\n",
    "data_chart = chart.get_data()\n",
    "print(\"Total Generation in Western Interconnection: %d MWh\" % round(data_chart['Western']['Generation'].sum().sum()))\n",
    "print(\"Total Capacity in Western Interconnection: %d MW\" % round(data_chart['Western']['Capacity'].sum()))"
   ]
  },
  {
   "cell_type": "markdown",
   "metadata": {},
   "source": [
    "### 2. Stacked plots\n",
    "<a id=\"base_stack\"></a>"
   ]
  },
  {
   "cell_type": "code",
   "execution_count": null,
   "metadata": {
    "scrolled": false
   },
   "outputs": [],
   "source": [
    "stack = AnalyzePG((PG, win_data, multiplier),\n",
    "    ('2016-06-01-00', '2016-06-20-23', 'local', 'H'),\n",
    "    ['California', 'Western'],\n",
    "    ['nuclear', 'coal', 'ng', 'hydro', 'wind', 'solar'],\n",
    "    'stacked', normalize=False)\n",
    "stack.get_plot(save=False)\n",
    "data_stack = stack.get_data()\n",
    "print(\"Generation in the Western interconnection in MWh:\")\n",
    "print(data_stack['California'].sum().sum())"
   ]
  },
  {
   "cell_type": "markdown",
   "metadata": {},
   "source": [
    "### 3. Curtailment plots\n",
    "<a id=\"base_curtailment\"></a>"
   ]
  },
  {
   "cell_type": "code",
   "execution_count": null,
   "metadata": {
    "scrolled": false
   },
   "outputs": [],
   "source": [
    "curtailment = AnalyzePG((PG, win_data, multiplier),\n",
    "    ('2016-01-01-00', '2016-12-31-23', 'local', 'D'),\n",
    "    ['California', 'Western'],\n",
    "    ['solar', 'wind'],\n",
    "    'curtailment', normalize=False)\n",
    "curtailment.get_plot(save=False)\n",
    "data_curtailment = curtailment.get_data()\n",
    "print(\"Maximum curtailment for solar generators in the Western Interconnection: %d %%\" % \n",
    "      round(data_curtailment['Western']['solar'].curtailment.max()))"
   ]
  },
  {
   "cell_type": "markdown",
   "metadata": {},
   "source": [
    "## California 2020\n",
    "<a id=\"ca2020\"></a>\n",
    "Multiperiod  \n",
    "Solar power: SAM  \n",
    "demand v3  \n",
    "multiplier: 1.52 for solar power output in CA and 1.48 for wind power output in CA."
   ]
  },
  {
   "cell_type": "code",
   "execution_count": null,
   "metadata": {},
   "outputs": [],
   "source": [
    "win_data.read_demand_data('cal2020')\n",
    "win_data.read_solar_data('sam')\n",
    "win_data.read_wind_data()"
   ]
  },
  {
   "cell_type": "code",
   "execution_count": null,
   "metadata": {},
   "outputs": [],
   "source": [
    "factor = [1.52, 1.48]\n",
    "multiplier = pd.DataFrame({'multiplier': [1]*len(win_data.genbus)}, index=win_data.genbus.index.values)\n",
    "for i, resource in enumerate(['solar', 'wind']):\n",
    "    plant_id = get_plant_id('California', resource)\n",
    "    multiplier.loc[plant_id] = factor[i]"
   ]
  },
  {
   "cell_type": "code",
   "execution_count": null,
   "metadata": {},
   "outputs": [],
   "source": [
    "from matplotlib import pyplot as plt\n",
    "\n",
    "fig = plt.figure(figsize=(12,4))\n",
    "\n",
    "ax = fig.gca()\n",
    "multiplier.plot(ax=ax, legend=False)\n",
    "ax.set_xlabel('Plant id', fontsize=18)\n",
    "ax.set_ylabel('Multiplier', fontsize=18)\n",
    "ax.tick_params(labelsize=16)\n",
    "plt.show()"
   ]
  },
  {
   "cell_type": "code",
   "execution_count": null,
   "metadata": {},
   "outputs": [],
   "source": [
    "PG = pd.read_pickle('U:\\\\PGData\\\\California_Nov2018\\\\PG_CA2020.pkl')"
   ]
  },
  {
   "cell_type": "markdown",
   "metadata": {},
   "source": [
    "### 1. Charts\n",
    "<a id=\"ca2020_chart\"></a>"
   ]
  },
  {
   "cell_type": "code",
   "execution_count": null,
   "metadata": {},
   "outputs": [],
   "source": [
    "chart = AnalyzePG((PG, win_data, multiplier),\n",
    "                  ('2016-01-01-00', '2016-12-31-23', 'utc', 'H'),\n",
    "                  ['California', 'Western'],\n",
    "                  ['nuclear', 'hydro', 'coal', 'ng', 'solar', 'wind'],\n",
    "                  'chart', normalize=False)\n",
    "chart.get_plot(save=True)\n",
    "data_chart = chart.get_data()\n",
    "print(\"Total Generation in Western Interconnection: %d MWh\" % round(data_chart['Western']['Generation'].sum().sum()))\n",
    "print(\"Total Capacity in Western Interconnection: %d MW\" % round(data_chart['Western']['Capacity'].sum()))"
   ]
  },
  {
   "cell_type": "markdown",
   "metadata": {},
   "source": [
    "### 2. Stacked Plots\n",
    "<a id=\"ca2020_stack\"></a>"
   ]
  },
  {
   "cell_type": "code",
   "execution_count": null,
   "metadata": {},
   "outputs": [],
   "source": [
    "stack = AnalyzePG((PG, win_data, multiplier),\n",
    "                  ('2016-06-01-00', '2016-06-20-23', 'local', 'H'),\n",
    "                  ['California', 'Western'],\n",
    "                  ['nuclear', 'coal', 'ng', 'hydro', 'wind', 'solar'],\n",
    "                  'stacked', normalize=False)\n",
    "stack.get_plot(save=False)\n",
    "data_stack = stack.get_data()\n",
    "print(\"Generation in the Western interconnection in MWh:\")\n",
    "print(data_stack['California'].sum().sum())"
   ]
  },
  {
   "cell_type": "markdown",
   "metadata": {},
   "source": [
    "### 3. Curtailment Plots\n",
    "<a id=\"ca2020_curtailment\"></a>"
   ]
  },
  {
   "cell_type": "code",
   "execution_count": null,
   "metadata": {
    "scrolled": false
   },
   "outputs": [],
   "source": [
    "curtailment = AnalyzePG((PG, win_data, multiplier),\n",
    "                        ('2016-01-01-00', '2016-12-31-23', 'local', 'D'),\n",
    "                        ['California', 'Western'],\n",
    "                        ['solar', 'wind'],\n",
    "                        'curtailment', normalize=False)\n",
    "curtailment.get_plot(save=False)\n",
    "data_curtailment = curtailment.get_data()"
   ]
  },
  {
   "cell_type": "code",
   "execution_count": null,
   "metadata": {},
   "outputs": [],
   "source": [
    "for zone in ['California', 'Western']:\n",
    "    for resource in ['solar', 'wind']:\n",
    "        available = data_curtailment[zone][resource].available.sum() \n",
    "        generated = data_curtailment[zone][resource].generated.sum()\n",
    "        curtailment = 100 * (available - generated) / available\n",
    "        print(\"Curtailment %s/%s: %.1f %%\" % (zone, resource, curtailment))"
   ]
  },
  {
   "cell_type": "markdown",
   "metadata": {},
   "source": [
    "## Congestion 2020\n",
    "<a id=\"congestion2020\"></a>\n",
    "Multiperiod  \n",
    "Solar power: SAM  \n",
    "demand v3  \n",
    "multiplier: 1.52 for solar power output in CA and 1.48 for wind power output in CA  \n",
    "Capacity of congested transmission lines in California: x2"
   ]
  },
  {
   "cell_type": "code",
   "execution_count": null,
   "metadata": {},
   "outputs": [],
   "source": [
    "win_data.read_demand_data('cal2020')\n",
    "win_data.read_solar_data('sam')\n",
    "win_data.read_wind_data()"
   ]
  },
  {
   "cell_type": "code",
   "execution_count": null,
   "metadata": {},
   "outputs": [],
   "source": [
    "factor = [1.52, 1.48]\n",
    "multiplier = pd.DataFrame({'multiplier': [1]*len(win_data.genbus)}, index=win_data.genbus.index.values)\n",
    "for i, resource in enumerate(['solar', 'wind']):\n",
    "    plant_id = get_plant_id('California', resource)\n",
    "    multiplier.loc[plant_id] = factor[i]"
   ]
  },
  {
   "cell_type": "code",
   "execution_count": null,
   "metadata": {},
   "outputs": [],
   "source": [
    "from matplotlib import pyplot as plt\n",
    "\n",
    "fig = plt.figure(figsize=(12,4))\n",
    "\n",
    "ax = fig.gca()\n",
    "multiplier.plot(ax=ax, legend=False)\n",
    "ax.set_xlabel('Plant id', fontsize=18)\n",
    "ax.set_ylabel('Multiplier', fontsize=18)\n",
    "ax.tick_params(labelsize=16)\n",
    "plt.show()"
   ]
  },
  {
   "cell_type": "code",
   "execution_count": null,
   "metadata": {},
   "outputs": [],
   "source": [
    "PG = pd.read_pickle('U:\\\\PGData\\\\California_Nov2018\\\\PG_CA2020_CALineCapacityX2.pkl')"
   ]
  },
  {
   "cell_type": "markdown",
   "metadata": {},
   "source": [
    "### 1. Charts\n",
    "<a id=\"congestion2020_chart\"></a>"
   ]
  },
  {
   "cell_type": "code",
   "execution_count": null,
   "metadata": {},
   "outputs": [],
   "source": [
    "chart = AnalyzePG((PG, win_data, multiplier),\n",
    "                  ('2016-01-01-00', '2016-12-31-23', 'utc', 'H'),\n",
    "                  ['California', 'Western'],\n",
    "                  ['nuclear', 'hydro', 'coal', 'ng', 'solar', 'wind'],\n",
    "                  'chart', normalize=False)\n",
    "chart.get_plot(save=True)\n",
    "data_chart = chart.get_data()\n",
    "print(\"Total Generation in Western Interconnection: %d MWh\" % round(data_chart['Western']['Generation'].sum().sum()))\n",
    "print(\"Total Capacity in Western Interconnection: %d MW\" % round(data_chart['Western']['Capacity'].sum()))"
   ]
  },
  {
   "cell_type": "markdown",
   "metadata": {},
   "source": [
    "### 2. Stacked Plots\n",
    "<a id=\"congestion2020_stack\"></a>"
   ]
  },
  {
   "cell_type": "code",
   "execution_count": null,
   "metadata": {},
   "outputs": [],
   "source": [
    "stack = AnalyzePG((PG, win_data, multiplier),\n",
    "                  ('2016-06-01-00', '2016-06-20-23', 'local', 'H'),\n",
    "                  ['California', 'Western'],\n",
    "                  ['nuclear', 'coal', 'ng', 'hydro', 'wind', 'solar'],\n",
    "                  'stacked', normalize=False)\n",
    "stack.get_plot(save=False)\n",
    "data_stack = stack.get_data()\n",
    "print(\"Generation in the Western interconnection in MWh:\")\n",
    "print(data_stack['California'].sum().sum())"
   ]
  },
  {
   "cell_type": "markdown",
   "metadata": {},
   "source": [
    "### 3. Curtailment Plots\n",
    "<a id=\"congestion2020_curtailment\"></a>"
   ]
  },
  {
   "cell_type": "code",
   "execution_count": null,
   "metadata": {
    "scrolled": false
   },
   "outputs": [],
   "source": [
    "curtailment = AnalyzePG((PG, win_data, multiplier),\n",
    "                        ('2016-01-01-00', '2016-12-31-23', 'local', 'D'),\n",
    "                        ['California', 'Western'],\n",
    "                        ['solar', 'wind'],\n",
    "                        'curtailment', normalize=False)\n",
    "curtailment.get_plot(save=False)\n",
    "data_curtailment = curtailment.get_data()"
   ]
  },
  {
   "cell_type": "code",
   "execution_count": null,
   "metadata": {},
   "outputs": [],
   "source": [
    "for zone in ['California', 'Western']:\n",
    "    for resource in ['solar', 'wind']:\n",
    "        available = data_curtailment[zone][resource].available.sum() \n",
    "        generated = data_curtailment[zone][resource].generated.sum()\n",
    "        curtailment = 100 * (available - generated) / available\n",
    "        print(\"Curtailment %s/%s: %.1f %%\" % (zone, resource, curtailment))"
   ]
  },
  {
   "cell_type": "markdown",
   "metadata": {},
   "source": [
    "## California 2030\n",
    "<a id=\"ca2030\"></a>\n",
    "Multiperiod  \n",
    "Solar power: SAM  \n",
    "demand v3  \n",
    "multiplier: 2.3 for solar and wind power output for whole western interconnect."
   ]
  },
  {
   "cell_type": "code",
   "execution_count": null,
   "metadata": {},
   "outputs": [],
   "source": [
    "win_data.read_demand_data('cal2030')\n",
    "win_data.read_solar_data('sam')\n",
    "win_data.read_wind_data()"
   ]
  },
  {
   "cell_type": "code",
   "execution_count": null,
   "metadata": {},
   "outputs": [],
   "source": [
    "factor = [2.3, 2.3]\n",
    "multiplier = pd.DataFrame({'multiplier': [1]*len(win_data.genbus)}, index=win_data.genbus.index.values)\n",
    "for i, resource in enumerate(['solar', 'wind']):\n",
    "    plant_id = get_plant_id('Western', resource)\n",
    "    multiplier.loc[plant_id] = factor[i]"
   ]
  },
  {
   "cell_type": "code",
   "execution_count": null,
   "metadata": {},
   "outputs": [],
   "source": [
    "from matplotlib import pyplot as plt\n",
    "\n",
    "fig = plt.figure(figsize=(12,4))\n",
    "\n",
    "ax = fig.gca()\n",
    "multiplier.plot(ax=ax, legend=False)\n",
    "ax.set_xlabel('Plant id', fontsize=18)\n",
    "ax.set_ylabel('Multiplier', fontsize=18)\n",
    "ax.tick_params(labelsize=16)\n",
    "plt.show()"
   ]
  },
  {
   "cell_type": "code",
   "execution_count": null,
   "metadata": {},
   "outputs": [],
   "source": [
    "PG = pd.read_pickle('U:\\\\PGData\\\\California_Nov2018\\\\PG_CA2030.pkl')"
   ]
  },
  {
   "cell_type": "markdown",
   "metadata": {},
   "source": [
    "### 1. Charts\n",
    "<a id=\"ca2030_chart\"></a>"
   ]
  },
  {
   "cell_type": "code",
   "execution_count": null,
   "metadata": {},
   "outputs": [],
   "source": [
    "chart = AnalyzePG((PG, win_data, multiplier),\n",
    "                  ('2016-01-01-00', '2016-12-31-23', 'utc', 'H'),\n",
    "                  ['California', 'Western'],\n",
    "                  ['nuclear', 'hydro', 'coal', 'ng', 'solar', 'wind'],\n",
    "                  'chart', normalize=False)\n",
    "chart.get_plot(save=True)\n",
    "data_chart = chart.get_data()\n",
    "print(\"Total Generation in Western Interconnection: %d MWh\" % round(data_chart['Western']['Generation'].sum().sum()))\n",
    "print(\"Total Capacity in Western Interconnection: %d MW\" % round(data_chart['Western']['Capacity'].sum()))"
   ]
  },
  {
   "cell_type": "markdown",
   "metadata": {},
   "source": [
    "### 2. Stacked Plots\n",
    "<a id=\"ca2030_stack\"></a>"
   ]
  },
  {
   "cell_type": "code",
   "execution_count": null,
   "metadata": {},
   "outputs": [],
   "source": [
    "stack = AnalyzePG((PG, win_data, multiplier),\n",
    "                  ('2016-06-01-00', '2016-06-20-23', 'local', 'H'),\n",
    "                  ['California', 'Western'],\n",
    "                  ['nuclear', 'coal', 'ng', 'hydro', 'wind', 'solar'],\n",
    "                  'stacked', normalize=False)\n",
    "stack.get_plot(save=False)\n",
    "data_stack = stack.get_data()\n",
    "print(\"Generation in the Western interconnection in MWh:\")\n",
    "print(data_stack['California'].sum().sum())"
   ]
  },
  {
   "cell_type": "markdown",
   "metadata": {},
   "source": [
    "### 3. Curtailment Plots\n",
    "<a id=\"ca2030_curtailment\"></a>"
   ]
  },
  {
   "cell_type": "code",
   "execution_count": null,
   "metadata": {
    "scrolled": false
   },
   "outputs": [],
   "source": [
    "curtailment = AnalyzePG((PG, win_data, multiplier),\n",
    "                        ('2016-01-01-00', '2016-12-31-23', 'local', 'D'),\n",
    "                        ['California', 'Western'],\n",
    "                        ['solar', 'wind'],\n",
    "                        'curtailment', normalize=False)\n",
    "curtailment.get_plot(save=False)\n",
    "data_curtailment = curtailment.get_data()"
   ]
  },
  {
   "cell_type": "code",
   "execution_count": null,
   "metadata": {},
   "outputs": [],
   "source": [
    "for zone in ['California', 'Western']:\n",
    "    for resource in ['solar', 'wind']:\n",
    "        available = data_curtailment[zone][resource].available.sum() \n",
    "        generated = data_curtailment[zone][resource].generated.sum()\n",
    "        curtailment = 100 * (available - generated) / available\n",
    "        print(\"Curtailment %s/%s: %.1f %%\" % (zone, resource, curtailment))"
   ]
  },
  {
   "cell_type": "markdown",
   "metadata": {},
   "source": [
    "## Congestion 2030\n",
    "<a id=\"congestion2030\"></a>\n",
    "Multiperiod  \n",
    "Solar power: SAM  \n",
    "demand v3  \n",
    "multiplier: 2.3 for solar and wind power output for whole western interconnect.  \n",
    "Capacity of congested transmission lines in California: x2"
   ]
  },
  {
   "cell_type": "code",
   "execution_count": null,
   "metadata": {},
   "outputs": [],
   "source": [
    "win_data.read_demand_data('cal2030')\n",
    "win_data.read_solar_data('sam')\n",
    "win_data.read_wind_data()"
   ]
  },
  {
   "cell_type": "code",
   "execution_count": null,
   "metadata": {},
   "outputs": [],
   "source": [
    "factor = [2.3, 2.3]\n",
    "multiplier = pd.DataFrame({'multiplier': [1]*len(win_data.genbus)}, index=win_data.genbus.index.values)\n",
    "for i, resource in enumerate(['solar', 'wind']):\n",
    "    plant_id = get_plant_id('California', resource)\n",
    "    multiplier.loc[plant_id] = factor[i]"
   ]
  },
  {
   "cell_type": "code",
   "execution_count": null,
   "metadata": {},
   "outputs": [],
   "source": [
    "from matplotlib import pyplot as plt\n",
    "\n",
    "fig = plt.figure(figsize=(12,4))\n",
    "\n",
    "ax = fig.gca()\n",
    "multiplier.plot(ax=ax, legend=False)\n",
    "ax.set_xlabel('Plant id', fontsize=18)\n",
    "ax.set_ylabel('Multiplier', fontsize=18)\n",
    "ax.tick_params(labelsize=16)\n",
    "plt.show()"
   ]
  },
  {
   "cell_type": "code",
   "execution_count": null,
   "metadata": {},
   "outputs": [],
   "source": [
    "PG = pd.read_pickle('U:\\\\PGData\\\\California_Nov2018\\\\PG_CA2030_CALineCapacityX2.pkl')"
   ]
  },
  {
   "cell_type": "markdown",
   "metadata": {},
   "source": [
    "### 1. Charts\n",
    "<a id=\"congestion2030_chart\"></a>"
   ]
  },
  {
   "cell_type": "code",
   "execution_count": null,
   "metadata": {},
   "outputs": [],
   "source": [
    "chart = AnalyzePG((PG, win_data, multiplier),\n",
    "                  ('2016-01-01-00', '2016-12-31-23', 'utc', 'H'),\n",
    "                  ['California', 'Western'],\n",
    "                  ['nuclear', 'hydro', 'coal', 'ng', 'solar', 'wind'],\n",
    "                  'chart', normalize=False)\n",
    "chart.get_plot(save=True)\n",
    "data_chart = chart.get_data()\n",
    "print(\"Total Generation in Western Interconnection: %d MWh\" % round(data_chart['Western']['Generation'].sum().sum()))\n",
    "print(\"Total Capacity in Western Interconnection: %d MW\" % round(data_chart['Western']['Capacity'].sum()))"
   ]
  },
  {
   "cell_type": "markdown",
   "metadata": {},
   "source": [
    "### 2. Stacked Plots\n",
    "<a id=\"congestion2030_stack\"></a>"
   ]
  },
  {
   "cell_type": "code",
   "execution_count": null,
   "metadata": {},
   "outputs": [],
   "source": [
    "stack = AnalyzePG((PG, win_data, multiplier),\n",
    "                  ('2016-06-01-00', '2016-06-20-23', 'local', 'H'),\n",
    "                  ['California', 'Western'],\n",
    "                  ['nuclear', 'coal', 'ng', 'hydro', 'wind', 'solar'],\n",
    "                  'stacked', normalize=False)\n",
    "stack.get_plot(save=False)\n",
    "data_stack = stack.get_data()\n",
    "print(\"Generation in the Western interconnection in MWh:\")\n",
    "print(data_stack['California'].sum().sum())"
   ]
  },
  {
   "cell_type": "markdown",
   "metadata": {},
   "source": [
    "### 3. Curtailment Plots\n",
    "<a id=\"congestion2030_curtailment\"></a>"
   ]
  },
  {
   "cell_type": "code",
   "execution_count": null,
   "metadata": {
    "scrolled": false
   },
   "outputs": [],
   "source": [
    "curtailment = AnalyzePG((PG, win_data, multiplier),\n",
    "                        ('2016-01-01-00', '2016-12-31-23', 'local', 'D'),\n",
    "                        ['California', 'Western'],\n",
    "                        ['solar', 'wind'],\n",
    "                        'curtailment', normalize=False)\n",
    "curtailment.get_plot(save=False)\n",
    "data_curtailment = curtailment.get_data()"
   ]
  },
  {
   "cell_type": "code",
   "execution_count": null,
   "metadata": {},
   "outputs": [],
   "source": [
    "for zone in ['California', 'Western']:\n",
    "    for resource in ['solar', 'wind']:\n",
    "        available = data_curtailment[zone][resource].available.sum() \n",
    "        generated = data_curtailment[zone][resource].generated.sum()\n",
    "        curtailment = 100 * (available - generated) / available\n",
    "        print(\"Curtailment %s/%s: %.1f %%\" % (zone, resource, curtailment))"
   ]
  },
  {
   "cell_type": "markdown",
   "metadata": {},
   "source": [
    "## West 2020\n",
    "<a id=\"west2020\"></a>\n",
    "Multiperiod  \n",
    "Solar power: SAM  \n",
    "demand v3  \n",
    "multiplier: 2.25 for solar and wind power output for whole western interconnect."
   ]
  },
  {
   "cell_type": "code",
   "execution_count": null,
   "metadata": {},
   "outputs": [],
   "source": [
    "win_data.read_demand_data('cal2020')\n",
    "win_data.read_solar_data('sam')\n",
    "win_data.read_wind_data()"
   ]
  },
  {
   "cell_type": "code",
   "execution_count": null,
   "metadata": {},
   "outputs": [],
   "source": [
    "factor = [2.25, 2.25]\n",
    "multiplier = pd.DataFrame({'multiplier': [1]*len(win_data.genbus)}, index=win_data.genbus.index.values)\n",
    "for i, resource in enumerate(['solar', 'wind']):\n",
    "    plant_id = get_plant_id('Western', resource)\n",
    "    multiplier.loc[plant_id] = factor[i]"
   ]
  },
  {
   "cell_type": "code",
   "execution_count": null,
   "metadata": {},
   "outputs": [],
   "source": [
    "from matplotlib import pyplot as plt\n",
    "\n",
    "fig = plt.figure(figsize=(12,4))\n",
    "\n",
    "ax = fig.gca()\n",
    "multiplier.plot(ax=ax, legend=False)\n",
    "ax.set_xlabel('Plant id', fontsize=18)\n",
    "ax.set_ylabel('Multiplier', fontsize=18)\n",
    "ax.tick_params(labelsize=16)\n",
    "plt.show()"
   ]
  },
  {
   "cell_type": "code",
   "execution_count": null,
   "metadata": {},
   "outputs": [],
   "source": [
    "PG = pd.read_pickle('U:\\\\PGData\\\\California_Nov2018\\\\PG_CA2020_WestTarget.pkl')"
   ]
  },
  {
   "cell_type": "markdown",
   "metadata": {},
   "source": [
    "### 1. Charts\n",
    "<a id=\"west2020_chart\"></a>"
   ]
  },
  {
   "cell_type": "code",
   "execution_count": null,
   "metadata": {},
   "outputs": [],
   "source": [
    "chart = AnalyzePG((PG, win_data, multiplier),\n",
    "                  ('2016-01-01-00', '2016-12-31-23', 'utc', 'H'),\n",
    "                  ['California', 'Western'],\n",
    "                  ['nuclear', 'hydro', 'coal', 'ng', 'solar', 'wind'],\n",
    "                  'chart', normalize=False)\n",
    "chart.get_plot(save=True)\n",
    "data_chart = chart.get_data()\n",
    "print(\"Total Generation in Western Interconnection: %d MWh\" % round(data_chart['Western']['Generation'].sum().sum()))\n",
    "print(\"Total Capacity in Western Interconnection: %d MW\" % round(data_chart['Western']['Capacity'].sum()))"
   ]
  },
  {
   "cell_type": "markdown",
   "metadata": {},
   "source": [
    "### 2. Stacked Plots\n",
    "<a id=\"west2020_stack\"></a>"
   ]
  },
  {
   "cell_type": "code",
   "execution_count": null,
   "metadata": {},
   "outputs": [],
   "source": [
    "stack = AnalyzePG((PG, win_data, multiplier),\n",
    "                  ('2016-06-01-00', '2016-06-20-23', 'local', 'H'),\n",
    "                  ['California', 'Western'],\n",
    "                  ['nuclear', 'coal', 'ng', 'hydro', 'wind', 'solar'],\n",
    "                  'stacked', normalize=False)\n",
    "stack.get_plot(save=False)\n",
    "data_stack = stack.get_data()\n",
    "print(\"Generation in the Western interconnection in MWh:\")\n",
    "print(data_stack['California'].sum().sum())"
   ]
  },
  {
   "cell_type": "markdown",
   "metadata": {},
   "source": [
    "### 3. Curtailment Plots\n",
    "<a id=\"west2020_curtailment\"></a>"
   ]
  },
  {
   "cell_type": "code",
   "execution_count": null,
   "metadata": {
    "scrolled": false
   },
   "outputs": [],
   "source": [
    "curtailment = AnalyzePG((PG, win_data, multiplier),\n",
    "                        ('2016-01-01-00', '2016-12-31-23', 'local', 'D'),\n",
    "                        ['California', 'Western'],\n",
    "                        ['solar', 'wind'],\n",
    "                        'curtailment', normalize=False)\n",
    "curtailment.get_plot(save=False)\n",
    "data_curtailment = curtailment.get_data()"
   ]
  },
  {
   "cell_type": "code",
   "execution_count": null,
   "metadata": {},
   "outputs": [],
   "source": [
    "for zone in ['California', 'Western']:\n",
    "    for resource in ['solar', 'wind']:\n",
    "        available = data_curtailment[zone][resource].available.sum() \n",
    "        generated = data_curtailment[zone][resource].generated.sum()\n",
    "        curtailment = 100 * (available - generated) / available\n",
    "        print(\"Curtailment %s/%s: %.1f %%\" % (zone, resource, curtailment))"
   ]
  },
  {
   "cell_type": "markdown",
   "metadata": {},
   "source": [
    "## West 2030\n",
    "<a id=\"west2030\"></a>\n",
    "Multiperiod  \n",
    "Solar power: SAM  \n",
    "demand v3  \n",
    "multiplier: 5 for solar and wind power output for whole western interconnect."
   ]
  },
  {
   "cell_type": "code",
   "execution_count": null,
   "metadata": {},
   "outputs": [],
   "source": [
    "win_data.read_demand_data('cal2030')\n",
    "win_data.read_solar_data('sam')\n",
    "win_data.read_wind_data()"
   ]
  },
  {
   "cell_type": "code",
   "execution_count": null,
   "metadata": {},
   "outputs": [],
   "source": [
    "factor = [5, 5]\n",
    "multiplier = pd.DataFrame({'multiplier': [1]*len(win_data.genbus)}, index=win_data.genbus.index.values)\n",
    "for i, resource in enumerate(['solar', 'wind']):\n",
    "    plant_id = get_plant_id('Western', resource)\n",
    "    multiplier.loc[plant_id] = factor[i]"
   ]
  },
  {
   "cell_type": "code",
   "execution_count": null,
   "metadata": {},
   "outputs": [],
   "source": [
    "from matplotlib import pyplot as plt\n",
    "\n",
    "fig = plt.figure(figsize=(12,4))\n",
    "\n",
    "ax = fig.gca()\n",
    "multiplier.plot(ax=ax, legend=False)\n",
    "ax.set_xlabel('Plant id', fontsize=18)\n",
    "ax.set_ylabel('Multiplier', fontsize=18)\n",
    "ax.tick_params(labelsize=16)\n",
    "plt.show()"
   ]
  },
  {
   "cell_type": "code",
   "execution_count": null,
   "metadata": {},
   "outputs": [],
   "source": [
    "PG = pd.read_pickle('U:\\\\PGData\\\\California_Nov2018\\\\PG_CA2030_WestTarget.pkl')"
   ]
  },
  {
   "cell_type": "markdown",
   "metadata": {},
   "source": [
    "### 1. Charts\n",
    "<a id=\"west2030_chart\"></a>"
   ]
  },
  {
   "cell_type": "code",
   "execution_count": null,
   "metadata": {},
   "outputs": [],
   "source": [
    "chart = AnalyzePG((PG, win_data, multiplier),\n",
    "                  ('2016-01-01-00', '2016-12-31-23', 'utc', 'H'),\n",
    "                  ['California', 'Western'],\n",
    "                  ['nuclear', 'hydro', 'coal', 'ng', 'solar', 'wind'],\n",
    "                  'chart', normalize=False)\n",
    "chart.get_plot(save=True)\n",
    "data_chart = chart.get_data()\n",
    "print(\"Total Generation in Western Interconnection: %d MWh\" % round(data_chart['Western']['Generation'].sum().sum()))\n",
    "print(\"Total Capacity in Western Interconnection: %d MW\" % round(data_chart['Western']['Capacity'].sum()))"
   ]
  },
  {
   "cell_type": "markdown",
   "metadata": {},
   "source": [
    "### 2. Stacked Plots\n",
    "<a id=\"west2030_stack\"></a>"
   ]
  },
  {
   "cell_type": "code",
   "execution_count": null,
   "metadata": {},
   "outputs": [],
   "source": [
    "stack = AnalyzePG((PG, win_data, multiplier),\n",
    "                  ('2016-06-01-00', '2016-06-20-23', 'local', 'H'),\n",
    "                  ['California', 'Western'],\n",
    "                  ['nuclear', 'coal', 'ng', 'hydro', 'wind', 'solar'],\n",
    "                  'stacked', normalize=False)\n",
    "stack.get_plot(save=False)\n",
    "data_stack = stack.get_data()\n",
    "print(\"Generation in the Western interconnection in MWh:\")\n",
    "print(data_stack['California'].sum().sum())"
   ]
  },
  {
   "cell_type": "markdown",
   "metadata": {},
   "source": [
    "### 3. Curtailment Plots\n",
    "<a id=\"west2030_curtailment\"></a>"
   ]
  },
  {
   "cell_type": "code",
   "execution_count": null,
   "metadata": {
    "scrolled": false
   },
   "outputs": [],
   "source": [
    "curtailment = AnalyzePG((PG, win_data, multiplier),\n",
    "                        ('2016-01-01-00', '2016-12-31-23', 'local', 'D'),\n",
    "                        ['California', 'Western'],\n",
    "                        ['solar', 'wind'],\n",
    "                        'curtailment', normalize=False)\n",
    "curtailment.get_plot(save=False)\n",
    "data_curtailment = curtailment.get_data()"
   ]
  },
  {
   "cell_type": "code",
   "execution_count": null,
   "metadata": {},
   "outputs": [],
   "source": [
    "for zone in ['California', 'Western']:\n",
    "    for resource in ['solar', 'wind']:\n",
    "        available = data_curtailment[zone][resource].available.sum() \n",
    "        generated = data_curtailment[zone][resource].generated.sum()\n",
    "        curtailment = 100 * (available - generated) / available\n",
    "        print(\"Curtailment %s/%s: %.1f %%\" % (zone, resource, curtailment))"
   ]
  }
 ],
 "metadata": {
  "kernelspec": {
   "display_name": "Python 3",
   "language": "python",
   "name": "python3"
  },
  "language_info": {
   "codemirror_mode": {
    "name": "ipython",
    "version": 3
   },
   "file_extension": ".py",
   "mimetype": "text/x-python",
   "name": "python",
   "nbconvert_exporter": "python",
   "pygments_lexer": "ipython3",
   "version": "3.6.7rc2"
  }
 },
 "nbformat": 4,
 "nbformat_minor": 2
}
