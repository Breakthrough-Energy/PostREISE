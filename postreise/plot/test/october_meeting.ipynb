{
 "cells": [
  {
   "cell_type": "markdown",
   "metadata": {},
   "source": [
    "# Plots for 10/05/2018 Presentation\n",
    "---\n",
    "Plots in the slide deck presented to Nathan on 10/05/2018 have been generated through this notebook."
   ]
  },
  {
   "cell_type": "code",
   "execution_count": null,
   "metadata": {},
   "outputs": [],
   "source": [
    "import sys\n",
    "sys.path.append(\"../..\")"
   ]
  },
  {
   "cell_type": "code",
   "execution_count": null,
   "metadata": {},
   "outputs": [],
   "source": [
    "import analyze\n",
    "import plot\n",
    "import pandas as pd"
   ]
  },
  {
   "cell_type": "markdown",
   "metadata": {},
   "source": [
    "## Download data from server\n",
    "This needs to be done once per scenario. Since this procedure is lengthy, the data are saved locally as a pickle file."
   ]
  },
  {
   "cell_type": "markdown",
   "metadata": {},
   "source": [
    "sftp = analyze.setup_server_connection(\"u:/.ssh/id_rsa\")  \n",
    "scenario_list = analyze.get_scenario_file_from_server(sftp)  \n",
    "scenario = 'western_scenarioCAEnhancedGridRenX4'  \n",
    "\"\"\"  \n",
    "scenario = 'western_scenarioCARenX4'  \n",
    "scenario = 'western_scenarioCARenX3'  \n",
    "scenario = 'western_scenarioCAEnhancedGridRenX3'  \n",
    "scenario = 'western_scenarioCAEnhancedGridRenX2'  \n",
    "scenario = 'western_scenarioEnhancedGridRenX4'  \n",
    "scenario = 'western_scenarioEnhancedGridRenX3'  \n",
    "scenario = 'western_scenarioCAEnhancedGrid'  \n",
    "scenario = 'western_scenarioEnhancedGridRenX2'  \n",
    "scenario = 'western_scenarioEnhancedGrid'  \n",
    "scenario = 'western_scenarioCARenX2corr'  \n",
    "scenario = 'western_scenarioCARenX2'  \n",
    "scenario = 'western_scenarioRenX2_01'  \n",
    "scenario = 'western_scenarioRenX3_01'  \n",
    "scenario = 'western_scenarioRenX4_01'  \n",
    "scenario = 'western_scenarioBaseCase01'   \n",
    "\"\"\"  \n",
    "print('scenario: %s' % scenario)  \n",
    "PG = analyze.get_PG(sftp,scenario_list,scenario)  \n",
    "PG.to_pickle('PG_CAEnhancedGridRenX4.pkl')"
   ]
  },
  {
   "cell_type": "markdown",
   "metadata": {},
   "source": [
    "## Stacked Power Generated and Demand across 2016"
   ]
  },
  {
   "cell_type": "code",
   "execution_count": null,
   "metadata": {},
   "outputs": [],
   "source": [
    "PG = pd.read_pickle('PG.pkl')"
   ]
  },
  {
   "cell_type": "code",
   "execution_count": null,
   "metadata": {},
   "outputs": [],
   "source": [
    "ts_all_total = plot.ts_all_onezone(PG, 'total', freq='W')"
   ]
  },
  {
   "cell_type": "code",
   "execution_count": null,
   "metadata": {},
   "outputs": [],
   "source": [
    "ts_all_total.sum(axis=0)"
   ]
  },
  {
   "cell_type": "code",
   "execution_count": null,
   "metadata": {
    "scrolled": true
   },
   "outputs": [],
   "source": [
    "ts_all_washington = plot.ts_all_onezone(PG, 'Washington', freq='W')"
   ]
  },
  {
   "cell_type": "code",
   "execution_count": null,
   "metadata": {},
   "outputs": [],
   "source": [
    "ts_all_washington.sum(axis=0)"
   ]
  },
  {
   "cell_type": "code",
   "execution_count": null,
   "metadata": {
    "scrolled": true
   },
   "outputs": [],
   "source": [
    "ts_all_montana = plot.ts_all_onezone(PG, 'Montana', freq='W')"
   ]
  },
  {
   "cell_type": "code",
   "execution_count": null,
   "metadata": {},
   "outputs": [],
   "source": [
    "ts_all_montana.sum(axis=0)"
   ]
  },
  {
   "cell_type": "code",
   "execution_count": null,
   "metadata": {
    "scrolled": true
   },
   "outputs": [],
   "source": [
    "ts_all_newmexico = plot.ts_all_onezone(PG, 'New Mexico', freq='W')"
   ]
  },
  {
   "cell_type": "code",
   "execution_count": null,
   "metadata": {},
   "outputs": [],
   "source": [
    "ts_all_newmexico.sum(axis=0)"
   ]
  },
  {
   "cell_type": "code",
   "execution_count": null,
   "metadata": {
    "scrolled": true
   },
   "outputs": [],
   "source": [
    "ts_all_california = plot.ts_all_onezone(PG, 'California', freq='W')"
   ]
  },
  {
   "cell_type": "code",
   "execution_count": null,
   "metadata": {},
   "outputs": [],
   "source": [
    "ts_all_california.sum(axis=0)"
   ]
  },
  {
   "cell_type": "code",
   "execution_count": null,
   "metadata": {
    "scrolled": true
   },
   "outputs": [],
   "source": [
    "plot.ts_all_onezone(PG, 'Arizona', from_index='2016-06-09-00', to_index='2016-06-29-23', freq='H')"
   ]
  },
  {
   "cell_type": "code",
   "execution_count": null,
   "metadata": {
    "scrolled": false
   },
   "outputs": [],
   "source": [
    "plot.ts_all_onezone(PG,'Colorado', from_index='2016-12-07-00', to_index='2016-12-27-23', freq='H')"
   ]
  },
  {
   "cell_type": "markdown",
   "metadata": {},
   "source": [
    "## Solar and Wind Power Generated for one Day in California"
   ]
  },
  {
   "cell_type": "code",
   "execution_count": null,
   "metadata": {
    "scrolled": false
   },
   "outputs": [],
   "source": [
    "plot.ts_renewable_onezone(PG, 'solar', 'California', from_index='2016-05-07-00', to_index='2016-05-08-00', freq='H', LT=True, seed=4)"
   ]
  },
  {
   "cell_type": "code",
   "execution_count": null,
   "metadata": {
    "scrolled": false
   },
   "outputs": [],
   "source": [
    "plot.ts_renewable_onezone(PG, 'wind', 'California', from_index='2016-03-07-00', to_index='2016-03-08-00', freq='H', LT=True, seed=1)"
   ]
  },
  {
   "cell_type": "markdown",
   "metadata": {},
   "source": [
    "## Zone Comparison of Solar Power Generated"
   ]
  },
  {
   "cell_type": "code",
   "execution_count": null,
   "metadata": {
    "scrolled": true
   },
   "outputs": [],
   "source": [
    "plot.ts_renewable_comp(PG, 'solar', ['Washington','Oregon','Arizona','Nevada'], from_index='2016-07-01-00', to_index='2016-07-07-23', freq='H')"
   ]
  },
  {
   "cell_type": "code",
   "execution_count": null,
   "metadata": {
    "scrolled": true
   },
   "outputs": [],
   "source": [
    "plot.ts_renewable_comp(PG, 'solar', ['Arizona','Nevada','California','total'], freq='D')"
   ]
  },
  {
   "cell_type": "code",
   "execution_count": null,
   "metadata": {
    "scrolled": true
   },
   "outputs": [],
   "source": [
    "plot.ts_renewable_comp(PG, 'solar', ['Washington','Arizona'], freq='D', normalize=True)"
   ]
  },
  {
   "cell_type": "code",
   "execution_count": null,
   "metadata": {},
   "outputs": [],
   "source": [
    "plot.ts_renewable_comp(PG, 'solar', ['Arizona','Nevada','California'], freq='D', normalize=True)"
   ]
  },
  {
   "cell_type": "markdown",
   "metadata": {},
   "source": [
    "## Zone Comparison of Wind Power Generated"
   ]
  },
  {
   "cell_type": "code",
   "execution_count": null,
   "metadata": {
    "scrolled": true
   },
   "outputs": [],
   "source": [
    "plot.ts_renewable_comp(PG, 'wind', ['Oregon','Washington','California','total'], freq='D')"
   ]
  },
  {
   "cell_type": "code",
   "execution_count": null,
   "metadata": {
    "scrolled": true
   },
   "outputs": [],
   "source": [
    "plot.ts_renewable_comp(PG, 'wind', ['Washington','Oregon','California'], from_index='2016-07-01-00', to_index='2016-07-07-23', freq='H')"
   ]
  },
  {
   "cell_type": "code",
   "execution_count": null,
   "metadata": {
    "scrolled": false
   },
   "outputs": [],
   "source": [
    "plot.ts_renewable_comp(PG, 'wind', ['Washington','Oregon','California'], from_index='2016-07-01-00', to_index='2016-07-07-23', freq='H', normalize=True)"
   ]
  },
  {
   "cell_type": "markdown",
   "metadata": {},
   "source": [
    "## Western Wind Curtailment"
   ]
  },
  {
   "cell_type": "code",
   "execution_count": null,
   "metadata": {
    "scrolled": true
   },
   "outputs": [],
   "source": [
    "plot.ts_curtailment_onezone(pd.read_pickle('PG_RenX3.pkl'), 'wind', 'total', freq='D', multiplier=2)"
   ]
  },
  {
   "cell_type": "markdown",
   "metadata": {},
   "source": [
    "## California Scenarios Comparison"
   ]
  },
  {
   "cell_type": "code",
   "execution_count": null,
   "metadata": {
    "scrolled": true
   },
   "outputs": [],
   "source": [
    "plot.scenarios_onezone('California')"
   ]
  },
  {
   "cell_type": "code",
   "execution_count": null,
   "metadata": {
    "scrolled": true
   },
   "outputs": [],
   "source": [
    "plot.scenarios_renewable_onezone('California')"
   ]
  },
  {
   "cell_type": "markdown",
   "metadata": {},
   "source": [
    "## Western Scenarios Comparison"
   ]
  },
  {
   "cell_type": "code",
   "execution_count": null,
   "metadata": {
    "scrolled": true
   },
   "outputs": [],
   "source": [
    "plot.scenarios_onezone('total')"
   ]
  },
  {
   "cell_type": "code",
   "execution_count": null,
   "metadata": {
    "scrolled": true
   },
   "outputs": [],
   "source": [
    "plot.scenarios_renewable_onezone('total')"
   ]
  },
  {
   "cell_type": "markdown",
   "metadata": {},
   "source": [
    "## Impact of Upgrading California on Other Zones"
   ]
  },
  {
   "cell_type": "code",
   "execution_count": null,
   "metadata": {
    "scrolled": true
   },
   "outputs": [],
   "source": [
    "plot.upgrade_impact('California', ['Washington','Montana','New Mexico'], grid=0)"
   ]
  },
  {
   "cell_type": "markdown",
   "metadata": {},
   "source": [
    "## Correlation for Renewable"
   ]
  },
  {
   "cell_type": "code",
   "execution_count": null,
   "metadata": {},
   "outputs": [],
   "source": [
    "PG_zone_solar = plot.corr_renewable(PG, 'solar', ['Washington','Oregon','California','Arizona','Nevada'])"
   ]
  },
  {
   "cell_type": "code",
   "execution_count": null,
   "metadata": {},
   "outputs": [],
   "source": [
    "corr = pd.plotting.scatter_matrix(PG_zone_solar, alpha=0.2, figsize=(18,18), diagonal='hist')"
   ]
  },
  {
   "cell_type": "code",
   "execution_count": null,
   "metadata": {},
   "outputs": [],
   "source": [
    "PG_zone_solar.corr()"
   ]
  },
  {
   "cell_type": "code",
   "execution_count": null,
   "metadata": {},
   "outputs": [],
   "source": [
    "PG_zone_wind = plot.corr_renewable(PG, 'wind', ['Washington','Oregon','California','Idaho','Colorado'])"
   ]
  },
  {
   "cell_type": "code",
   "execution_count": null,
   "metadata": {},
   "outputs": [],
   "source": [
    "corr = pd.plotting.scatter_matrix(PG_zone_wind, alpha=0.2, figsize=(18,18), diagonal='hist')"
   ]
  },
  {
   "cell_type": "code",
   "execution_count": null,
   "metadata": {},
   "outputs": [],
   "source": [
    "PG_zone_wind.corr()"
   ]
  },
  {
   "cell_type": "code",
   "execution_count": null,
   "metadata": {},
   "outputs": [],
   "source": []
  }
 ],
 "metadata": {
  "kernelspec": {
   "display_name": "Python 3",
   "language": "python",
   "name": "python3"
  },
  "language_info": {
   "codemirror_mode": {
    "name": "ipython",
    "version": 3
   },
   "file_extension": ".py",
   "mimetype": "text/x-python",
   "name": "python",
   "nbconvert_exporter": "python",
   "pygments_lexer": "ipython3",
   "version": "3.6.7rc2"
  }
 },
 "nbformat": 4,
 "nbformat_minor": 2
}
