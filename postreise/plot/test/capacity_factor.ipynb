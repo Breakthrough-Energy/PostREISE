{
 "cells": [
  {
   "cell_type": "markdown",
   "metadata": {},
   "source": [
    "# Capacity Factor\n",
    "---"
   ]
  },
  {
   "cell_type": "code",
   "execution_count": null,
   "metadata": {},
   "outputs": [],
   "source": [
    "import sys\n",
    "import warnings\n",
    "\n",
    "sys.path.append(\"../../\")\n",
    "warnings.simplefilter(\"ignore\")"
   ]
  },
  {
   "cell_type": "code",
   "execution_count": null,
   "metadata": {},
   "outputs": [],
   "source": [
    "import analyze\n",
    "from plot.analyze_pg import AnalyzePG\n",
    "from westernintnet.westernintnet import win_data\n",
    "import pandas as pd\n",
    "import matplotlib.pyplot as plt\n",
    "plt.ioff()"
   ]
  },
  {
   "cell_type": "code",
   "execution_count": null,
   "metadata": {},
   "outputs": [],
   "source": [
    "def get_plant_id(zone, resource):\n",
    "    plant_id = []\n",
    "    if zone == 'Western':\n",
    "        try:\n",
    "            plant_id = win_data.genbus.groupby('type').get_group(resource).index.values.tolist()\n",
    "        except KeyError:\n",
    "            pass\n",
    "    elif zone == 'California':\n",
    "        CA = ['Bay Area', 'Central California', 'Northern California',\n",
    "              'Southeast California', 'Southwest California']\n",
    "        for load_zone in CA:\n",
    "            try:\n",
    "                plant_id += win_data.genbus.groupby(['ZoneName', 'type']).get_group(\n",
    "                    (load_zone, resource)).index.values.tolist()\n",
    "            except KeyError:\n",
    "                pass\n",
    "    else:\n",
    "        try:\n",
    "            plant_id = win_data.genbus.groupby(['ZoneName', 'type']).get_group(\n",
    "                (zone, resource)).index.values.tolist()\n",
    "        except KeyError:\n",
    "            pass\n",
    "    \n",
    "    return plant_id"
   ]
  },
  {
   "cell_type": "code",
   "execution_count": null,
   "metadata": {},
   "outputs": [],
   "source": [
    "def prepare_data(scenario):\n",
    "    #renewable profiles\n",
    "    win_data.read_solar_data('sam')\n",
    "    win_data.read_wind_data()\n",
    "    \n",
    "    if scenario is \"2016\":\n",
    "        # generation\n",
    "        PG = pd.read_pickle('U:\\\\PGData\\\\California_Nov2018\\\\PG.pkl')\n",
    "        # demand\n",
    "        win_data.read_demand_data('v3')\n",
    "        # renewable multipliers\n",
    "        multiplier = pd.DataFrame({'multiplier': [1]*len(win_data.genbus)}, index=win_data.genbus.index.values)\n",
    "    elif scenario is \"ca2020\" or scenario is \"ca2020_congestion\":\n",
    "        # generation\n",
    "        if scenario is \"ca2020\":\n",
    "            PG = pd.read_pickle('U:\\\\PGData\\\\California_Nov2018\\\\PG_CA2020.pkl')\n",
    "        else:\n",
    "            PG = pd.read_pickle('U:\\\\PGData\\\\California_Nov2018\\\\PG_CA2020_CALineCapacityX2.pkl')\n",
    "        # demand\n",
    "        win_data.read_demand_data('cal2020')\n",
    "        # renewable multipliers\n",
    "        factor = [1.52, 1.48]\n",
    "        multiplier = pd.DataFrame({'multiplier': [1]*len(win_data.genbus)}, index=win_data.genbus.index.values)\n",
    "        for i, resource in enumerate(['solar', 'wind']):\n",
    "            plant_id = get_plant_id('California', resource)\n",
    "            multiplier.loc[plant_id] = factor[i]\n",
    "    elif scenario is \"ca2030\" or scenario is \"ca2030_congestion\":\n",
    "        # generation\n",
    "        if scenario is \"ca2030\":\n",
    "            PG = pd.read_pickle('U:\\\\PGData\\\\California_Nov2018\\\\PG_CA2030.pkl')\n",
    "        else:\n",
    "            PG = pd.read_pickle('U:\\\\PGData\\\\California_Nov2018\\\\PG_CA2030_CALineCapacityX2.pkl')\n",
    "        # demand\n",
    "        win_data.read_demand_data('cal2030')\n",
    "        # renewable multipliers\n",
    "        factor = [2.3, 2.3]\n",
    "        multiplier = pd.DataFrame({'multiplier': [1]*len(win_data.genbus)}, index=win_data.genbus.index.values)\n",
    "        for i, resource in enumerate(['solar', 'wind']):\n",
    "            plant_id = get_plant_id('Western', resource)\n",
    "            multiplier.loc[plant_id] = factor[i]\n",
    "    elif scenario is \"west2020\":\n",
    "        # generation\n",
    "        PG = pd.read_pickle('U:\\\\PGData\\\\California_Nov2018\\\\PG_CA2020_WestTarget.pkl')\n",
    "        # demand\n",
    "        win_data.read_demand_data('cal2020')\n",
    "        # renewable multipliers\n",
    "        factor = [2.25, 2.25]\n",
    "        multiplier = pd.DataFrame({'multiplier': [1]*len(win_data.genbus)}, index=win_data.genbus.index.values)\n",
    "        for i, resource in enumerate(['solar', 'wind']):\n",
    "            plant_id = get_plant_id('Western', resource)\n",
    "            multiplier.loc[plant_id] = factor[i]\n",
    "    elif scenario is \"west2030\":\n",
    "        # generation\n",
    "        PG = pd.read_pickle('U:\\\\PGData\\\\California_Nov2018\\\\PG_CA2030_WestTarget.pkl')\n",
    "        # demand\n",
    "        win_data.read_demand_data('cal2030')\n",
    "        # renewable multipliers\n",
    "        factor = [5, 5]\n",
    "        multiplier = pd.DataFrame({'multiplier': [1]*len(win_data.genbus)}, index=win_data.genbus.index.values)\n",
    "        for i, resource in enumerate(['solar', 'wind']):\n",
    "            plant_id = get_plant_id('Western', resource)\n",
    "            multiplier.loc[plant_id] = factor[i]\n",
    "    \n",
    "    return (PG, win_data, multiplier)"
   ]
  }
 ],
 "metadata": {
  "kernelspec": {
   "display_name": "Python 3",
   "language": "python",
   "name": "python3"
  },
  "language_info": {
   "codemirror_mode": {
    "name": "ipython",
    "version": 3
   },
   "file_extension": ".py",
   "mimetype": "text/x-python",
   "name": "python",
   "nbconvert_exporter": "python",
   "pygments_lexer": "ipython3",
   "version": "3.6.7rc2"
  }
 },
 "nbformat": 4,
 "nbformat_minor": 2
}
