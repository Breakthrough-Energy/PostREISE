{
 "cells": [
  {
   "cell_type": "markdown",
   "metadata": {},
   "source": [
    "## Carbon Emissions Demo\n",
    "\n",
    "1. Updated: 4/22/2020\n",
    "2. Updated: 9/23/2020, website version improvements\n",
    "2. Owner: Victoria Hunt"
   ]
  },
  {
   "cell_type": "code",
   "execution_count": 12,
   "metadata": {},
   "outputs": [],
   "source": [
    "from postreise.analyze.generation import emissions\n",
    "from powersimdata.scenario.scenario import Scenario\n",
    "from postreise.plot import plot_carbon_map, plot_carbon_bar\n",
    "from bokeh.io import show"
   ]
  },
  {
   "cell_type": "code",
   "execution_count": 3,
   "metadata": {},
   "outputs": [
    {
     "name": "stdout",
     "output_type": "stream",
     "text": [
      "SCENARIO: Julia | USABase_2020_Anchor_profile_fix_1\n",
      "\n",
      "--> State\n",
      "analyze\n",
      "--> Loading grid\n",
      "Loading bus\n",
      "Loading plant\n",
      "Loading heat_rate_curve\n",
      "Loading gencost_before\n",
      "Loading gencost_after\n",
      "Loading branch\n",
      "Loading dcline\n",
      "Loading sub\n",
      "Loading bus2sub\n",
      "--> Loading ct\n"
     ]
    }
   ],
   "source": [
    "s824 = Scenario('824') "
   ]
  },
  {
   "cell_type": "code",
   "execution_count": 4,
   "metadata": {},
   "outputs": [
    {
     "name": "stdout",
     "output_type": "stream",
     "text": [
      "SCENARIO: Julia | USA2030Ambitious_Composite_OB2_1\n",
      "\n",
      "--> State\n",
      "analyze\n",
      "--> Loading grid\n",
      "Loading bus\n",
      "Loading plant\n",
      "Loading heat_rate_curve\n",
      "Loading gencost_before\n",
      "Loading gencost_after\n",
      "Loading branch\n",
      "Loading dcline\n",
      "Loading sub\n",
      "Loading bus2sub\n",
      "--> Loading ct\n"
     ]
    }
   ],
   "source": [
    "s1177 = Scenario('1177') "
   ]
  },
  {
   "cell_type": "code",
   "execution_count": 5,
   "metadata": {},
   "outputs": [],
   "source": [
    "grid824 = s824.state.get_grid()\n",
    "grid1177 = s1177.state.get_grid()"
   ]
  },
  {
   "cell_type": "code",
   "execution_count": 7,
   "metadata": {},
   "outputs": [
    {
     "name": "stdout",
     "output_type": "stream",
     "text": [
      "--> Loading PG\n"
     ]
    }
   ],
   "source": [
    "carbon824_by_bus = emissions.summarize_emissions_by_bus(emissions.generate_emissions_stats(s824), grid824.plant)"
   ]
  },
  {
   "cell_type": "code",
   "execution_count": 6,
   "metadata": {},
   "outputs": [
    {
     "name": "stdout",
     "output_type": "stream",
     "text": [
      "--> Loading PG\n"
     ]
    }
   ],
   "source": [
    "carbon1177_by_bus = emissions.summarize_emissions_by_bus(emissions.generate_emissions_stats(s1177), grid1177.plant)"
   ]
  },
  {
   "cell_type": "code",
   "execution_count": 10,
   "metadata": {
    "scrolled": true
   },
   "outputs": [],
   "source": [
    "busmap824 = plot_carbon_map.combine_bus_info_and_emission(grid824.bus, carbon824_by_bus)\n",
    "busmap1177 = plot_carbon_map.combine_bus_info_and_emission(grid1177.bus, carbon1177_by_bus)"
   ]
  },
  {
   "cell_type": "code",
   "execution_count": 13,
   "metadata": {},
   "outputs": [],
   "source": [
    "carbon_824 = plot_carbon_map.map_carbon_emission(busmap824,\n",
    "                                                 size_factor =1, \n",
    "                                                 web = True, \n",
    "                                                 agg = False)\n",
    "show(carbon_824)"
   ]
  },
  {
   "cell_type": "markdown",
   "metadata": {},
   "source": [
    "plot carbon bars on map of US states"
   ]
  },
  {
   "cell_type": "code",
   "execution_count": 15,
   "metadata": {},
   "outputs": [],
   "source": [
    "carbon_bar_824 = plot_carbon_map.map_carbon_emission_bar(busmap824, 'scenario 824')\n",
    "show(carbon_bar_824)"
   ]
  },
  {
   "cell_type": "markdown",
   "metadata": {},
   "source": [
    "carbon comparion of multiple scenarios maps"
   ]
  },
  {
   "cell_type": "code",
   "execution_count": 16,
   "metadata": {
    "scrolled": false
   },
   "outputs": [],
   "source": [
    "compare_824_1177 = plot_carbon_map.map_carbon_emission_comparison(busmap824,  busmap1177, web = True)\n",
    "show(compare_824_1177)"
   ]
  },
  {
   "cell_type": "code",
   "execution_count": 17,
   "metadata": {},
   "outputs": [
    {
     "data": {
      "image/png": "[encoded data removed]",
      "text/plain": [
       "<Figure size 504x144 with 1 Axes>"
      ]
     },
     "metadata": {
      "needs_background": "light"
     },
     "output_type": "display_data"
    },
    {
     "data": {
      "image/png": "[encoded data removed]",
      "text/plain": [
       "<Figure size 504x144 with 1 Axes>"
      ]
     },
     "metadata": {
      "needs_background": "light"
     },
     "output_type": "display_data"
    }
   ],
   "source": [
    "plot_carbon_bar.plot_carbon_bar(carbon824_by_bus, carbon1177_by_bus, '2020 base', '2030 ambitious')\n"
   ]
  },
  {
   "cell_type": "code",
   "execution_count": 18,
   "metadata": {},
   "outputs": [
    {
     "name": "stdout",
     "output_type": "stream",
     "text": [
      "46%\n"
     ]
    }
   ],
   "source": [
    "plot_carbon_bar.print_carbon_diff(carbon824_by_bus, carbon1177_by_bus)"
   ]
  }
 ],
 "metadata": {
  "kernelspec": {
   "display_name": "Python 3",
   "language": "python",
   "name": "python3"
  },
  "language_info": {
   "codemirror_mode": {
    "name": "ipython",
    "version": 3
   },
   "file_extension": ".py",
   "mimetype": "text/x-python",
   "name": "python",
   "nbconvert_exporter": "python",
   "pygments_lexer": "ipython3",
   "version": "3.8.3"
  }
 },
 "nbformat": 4,
 "nbformat_minor": 2
}
