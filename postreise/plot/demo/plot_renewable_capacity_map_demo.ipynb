{
 "cells": [
  {
   "cell_type": "markdown",
   "metadata": {},
   "source": [
    "## Map Renewable Capacity Additions: Renewables at Retirements Demo"
   ]
  },
  {
   "cell_type": "markdown",
   "metadata": {},
   "source": [
    "One approach to reach clean energy goals would be to connect clean energy sources to existing transmission lines. Many power plants are reaching the end of their productive life or have become uneconomic in recent years. By siting clean energy sources near power plants that have been or will soon be shut down, we could have the joint benefit of reusing transmission infrastructure and aiding in an economic transition for the local communities. Such a strategy requires 30 percent fewer transmission upgrades to achieve clean energy goals across the U.S. by 2030.A map of renewable capacity added at retiring plants ('retirements') is available at https://science.breakthroughenergy.org/ for scenario 1244 (USA_2030_RARSCollaborative_OB3), as demonstrated below. "
   ]
  },
  {
   "cell_type": "code",
   "execution_count": 3,
   "metadata": {},
   "outputs": [
    {
     "name": "stdout",
     "output_type": "stream",
     "text": [
      "The autoreload extension is already loaded. To reload it, use:\n",
      "  %reload_ext autoreload\n"
     ]
    }
   ],
   "source": [
    "%load_ext autoreload\n",
    "%autoreload 2"
   ]
  },
  {
   "cell_type": "code",
   "execution_count": 4,
   "metadata": {},
   "outputs": [],
   "source": [
    "from postreise.plot import plot_renewable_capacity_map\n",
    "from powersimdata.scenario.scenario import Scenario\n",
    "from bokeh.io import show"
   ]
  },
  {
   "cell_type": "code",
   "execution_count": 11,
   "metadata": {},
   "outputs": [
    {
     "name": "stdout",
     "output_type": "stream",
     "text": [
      "SCENARIO: Julia | USA_2030_RARSCollaborative_OB3\n",
      "\n",
      "--> State\n",
      "analyze\n",
      "--> Loading grid\n",
      "--> Loading ct\n"
     ]
    }
   ],
   "source": [
    "#Load renewables at retirements scenario: USA_2030_RARSCollaborative_OB3\n",
    "s1244 = Scenario('1244')"
   ]
  },
  {
   "cell_type": "code",
   "execution_count": 13,
   "metadata": {},
   "outputs": [],
   "source": [
    "#make a map of renewables at retirements, where circle size indicates capacity added.\n",
    "show(plot_renewable_capacity_map.map_plant_capacity(s1244))"
   ]
  }
 ],
 "metadata": {
  "kernelspec": {
   "display_name": "Python 3",
   "language": "python",
   "name": "python3"
  },
  "language_info": {
   "codemirror_mode": {
    "name": "ipython",
    "version": 3
   },
   "file_extension": ".py",
   "mimetype": "text/x-python",
   "name": "python",
   "nbconvert_exporter": "python",
   "pygments_lexer": "ipython3",
   "version": "3.8.3"
  }
 },
 "nbformat": 4,
 "nbformat_minor": 4
}
