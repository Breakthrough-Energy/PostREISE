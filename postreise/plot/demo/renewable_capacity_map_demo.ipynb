{
 "cells": [
  {
   "cell_type": "markdown",
   "metadata": {},
   "source": [
    "# Map Renewable Capacity Additions"
   ]
  },
  {
   "cell_type": "markdown",
   "metadata": {},
   "source": [
    "One approach to reach clean energy goals would be to connect clean energy sources to existing transmission lines. Many power plants are reaching the end of their productive life or have become uneconomic in recent years. \n",
    "\n",
    "By siting clean energy sources near power plants that have been or will soon be shut down, we could have the joint benefit of reusing transmission infrastructure and aiding in an economic transition for the local communities. Such a strategy requires 30\\% fewer transmission upgrades to achieve clean energy goals across the U.S. by 2030. A map of renewable capacity added at retiring plants is available on our website at https://science.breakthroughenergy.org/, see the *Collaborative with Renewables at Retirements, USA 2030* scenarios there."
   ]
  },
  {
   "cell_type": "code",
   "execution_count": 1,
   "metadata": {},
   "outputs": [],
   "source": [
    "%load_ext autoreload\n",
    "%autoreload 2"
   ]
  },
  {
   "cell_type": "code",
   "execution_count": 2,
   "metadata": {},
   "outputs": [],
   "source": [
    "from postreise.plot import plot_renewable_capacity_map\n",
    "from powersimdata.scenario.scenario import Scenario\n",
    "from bokeh.io import show"
   ]
  },
  {
   "cell_type": "code",
   "execution_count": 3,
   "metadata": {},
   "outputs": [
    {
     "name": "stdout",
     "output_type": "stream",
     "text": [
      "SCENARIO: Julia | USA_2030_RARSCollaborative_OB3\n",
      "\n",
      "--> State\n",
      "analyze\n",
      "--> Loading grid\n",
      "Loading bus\n",
      "Loading plant\n",
      "Loading heat_rate_curve\n",
      "Loading gencost_before\n",
      "Loading gencost_after\n",
      "Loading branch\n",
      "Loading dcline\n",
      "Loading sub\n",
      "Loading bus2sub\n",
      "--> Loading ct\n"
     ]
    }
   ],
   "source": [
    "scenario = Scenario(\"1244\")"
   ]
  },
  {
   "cell_type": "markdown",
   "metadata": {},
   "source": [
    "Make a map of renewables at retirements, where circle size indicates capacity added."
   ]
  },
  {
   "cell_type": "code",
   "execution_count": 4,
   "metadata": {},
   "outputs": [],
   "source": [
    "show(plot_renewable_capacity_map.map_plant_capacity(scenario))"
   ]
  }
 ],
 "metadata": {
  "kernelspec": {
   "display_name": "Python 3",
   "language": "python",
   "name": "python3"
  },
  "language_info": {
   "codemirror_mode": {
    "name": "ipython",
    "version": 3
   },
   "file_extension": ".py",
   "mimetype": "text/x-python",
   "name": "python",
   "nbconvert_exporter": "python",
   "pygments_lexer": "ipython3",
   "version": "3.8.3"
  }
 },
 "nbformat": 4,
 "nbformat_minor": 4
}
