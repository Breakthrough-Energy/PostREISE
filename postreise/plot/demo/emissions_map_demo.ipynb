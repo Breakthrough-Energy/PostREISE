{
 "cells": [
  {
   "cell_type": "markdown",
   "metadata": {},
   "source": [
    "# Carbon Emissions Maps"
   ]
  },
  {
   "cell_type": "code",
   "execution_count": 1,
   "metadata": {},
   "outputs": [],
   "source": [
    "from postreise.analyze.generation import emissions\n",
    "from powersimdata.scenario.scenario import Scenario\n",
    "from postreise.plot import plot_carbon_map, plot_carbon_bar\n",
    "from bokeh.io import show"
   ]
  },
  {
   "cell_type": "markdown",
   "metadata": {},
   "source": [
    "Here, we consider our *2020 base scenario*. This is the scenario presented in the scrolly telling on our webpage: https://science.breakthroughenergy.org/."
   ]
  },
  {
   "cell_type": "code",
   "execution_count": 2,
   "metadata": {
    "scrolled": true
   },
   "outputs": [
    {
     "name": "stdout",
     "output_type": "stream",
     "text": [
      "SCENARIO: Julia | USABase_2020_Anchor_profile_fix_1\n",
      "\n",
      "--> State\n",
      "analyze\n",
      "--> Loading grid\n",
      "Loading bus\n",
      "Loading plant\n",
      "Loading heat_rate_curve\n",
      "Loading gencost_before\n",
      "Loading gencost_after\n",
      "Loading branch\n",
      "Loading dcline\n",
      "Loading sub\n",
      "Loading bus2sub\n",
      "--> Loading ct\n"
     ]
    }
   ],
   "source": [
    "base = Scenario(\"824\") "
   ]
  },
  {
   "cell_type": "code",
   "execution_count": 3,
   "metadata": {},
   "outputs": [],
   "source": [
    "base_grid = base.state.get_grid()"
   ]
  },
  {
   "cell_type": "markdown",
   "metadata": {},
   "source": [
    "The second scenario is our *2030 Ambitious HVDC Design 3 OB1 (Transmission-heavy)*. It can be found on our website dashboard (https://science.breakthroughenergy.org/dashboard)."
   ]
  },
  {
   "cell_type": "code",
   "execution_count": 4,
   "metadata": {},
   "outputs": [
    {
     "name": "stdout",
     "output_type": "stream",
     "text": [
      "SCENARIO: Julia | USA2030HVDC_Design3_OB1_Mesh500x38\n",
      "\n",
      "--> State\n",
      "analyze\n",
      "--> Loading grid\n",
      "Loading bus\n",
      "Loading plant\n",
      "Loading heat_rate_curve\n",
      "Loading gencost_before\n",
      "Loading gencost_after\n",
      "Loading branch\n",
      "Loading dcline\n",
      "Loading sub\n",
      "Loading bus2sub\n",
      "--> Loading ct\n"
     ]
    }
   ],
   "source": [
    "ambitious = Scenario(\"1270\") "
   ]
  },
  {
   "cell_type": "code",
   "execution_count": 5,
   "metadata": {},
   "outputs": [],
   "source": [
    "ambitious_grid = ambitious.state.get_grid()"
   ]
  },
  {
   "cell_type": "markdown",
   "metadata": {},
   "source": [
    "## Summarize Carbon Emission by Bus"
   ]
  },
  {
   "cell_type": "code",
   "execution_count": 6,
   "metadata": {
    "scrolled": true
   },
   "outputs": [
    {
     "name": "stdout",
     "output_type": "stream",
     "text": [
      "--> Loading PG\n"
     ]
    }
   ],
   "source": [
    "base_carbon_by_bus = emissions.summarize_emissions_by_bus(emissions.generate_emissions_stats(base), \n",
    "                                                          base_grid)"
   ]
  },
  {
   "cell_type": "code",
   "execution_count": 7,
   "metadata": {},
   "outputs": [
    {
     "name": "stdout",
     "output_type": "stream",
     "text": [
      "--> Loading PG\n"
     ]
    }
   ],
   "source": [
    "ambitious_carbon_by_bus = emissions.summarize_emissions_by_bus(emissions.generate_emissions_stats(ambitious), \n",
    "                                                               ambitious_grid)"
   ]
  },
  {
   "cell_type": "code",
   "execution_count": 8,
   "metadata": {
    "scrolled": true
   },
   "outputs": [],
   "source": [
    "base_bus_agg = plot_carbon_map.combine_bus_info_and_emission(base_grid.bus, base_carbon_by_bus)\n",
    "ambitious_bus_agg = plot_carbon_map.combine_bus_info_and_emission(ambitious_grid.bus, ambitious_carbon_by_bus)"
   ]
  },
  {
   "cell_type": "markdown",
   "metadata": {},
   "source": [
    "## Carbon Emission Maps"
   ]
  },
  {
   "cell_type": "code",
   "execution_count": 9,
   "metadata": {},
   "outputs": [],
   "source": [
    "base_carbon_map = plot_carbon_map.map_carbon_emission(base_bus_agg,\n",
    "                                                      size_factor=1,\n",
    "                                                      web=True, \n",
    "                                                      agg=False)\n",
    "show(base_carbon_map)"
   ]
  },
  {
   "cell_type": "code",
   "execution_count": 10,
   "metadata": {},
   "outputs": [],
   "source": [
    "ambitious_carbon_map = plot_carbon_map.map_carbon_emission(ambitious_bus_agg,\n",
    "                                                           size_factor=1,\n",
    "                                                           web=True, \n",
    "                                                           agg=False)\n",
    "show(ambitious_carbon_map)"
   ]
  },
  {
   "cell_type": "markdown",
   "metadata": {},
   "source": [
    "## Emission Comparison\n",
    "Relative emission in emission level between the two scenarios. The base scenario is the reference."
   ]
  },
  {
   "cell_type": "code",
   "execution_count": 11,
   "metadata": {
    "scrolled": false
   },
   "outputs": [],
   "source": [
    "comp = plot_carbon_map.map_carbon_emission_comparison(base_bus_agg, ambitious_bus_agg, web=True)\n",
    "show(comp)"
   ]
  },
  {
   "cell_type": "code",
   "execution_count": 12,
   "metadata": {},
   "outputs": [
    {
     "data": {
      "image/png": "[encoded data removed]",
      "text/plain": [
       "<Figure size 504x144 with 1 Axes>"
      ]
     },
     "metadata": {
      "needs_background": "light"
     },
     "output_type": "display_data"
    },
    {
     "data": {
      "image/png": "[encoded data removed]",
      "text/plain": [
       "<Figure size 504x144 with 1 Axes>"
      ]
     },
     "metadata": {
      "needs_background": "light"
     },
     "output_type": "display_data"
    }
   ],
   "source": [
    "plot_carbon_bar.plot_carbon_bar(base_carbon_by_bus, ambitious_carbon_by_bus, \"2020 base\", \"2030 ambitious\")"
   ]
  },
  {
   "cell_type": "markdown",
   "metadata": {},
   "source": [
    "## Carbon Difference\n",
    "Print percentage change in carbon emissions of the two scenarios"
   ]
  },
  {
   "cell_type": "code",
   "execution_count": 13,
   "metadata": {},
   "outputs": [
    {
     "name": "stdout",
     "output_type": "stream",
     "text": [
      "45%\n"
     ]
    }
   ],
   "source": [
    "plot_carbon_bar.print_carbon_diff(base_carbon_by_bus, ambitious_carbon_by_bus)"
   ]
  }
 ],
 "metadata": {
  "kernelspec": {
   "display_name": "Python 3",
   "language": "python",
   "name": "python3"
  },
  "language_info": {
   "codemirror_mode": {
    "name": "ipython",
    "version": 3
   },
   "file_extension": ".py",
   "mimetype": "text/x-python",
   "name": "python",
   "nbconvert_exporter": "python",
   "pygments_lexer": "ipython3",
   "version": "3.8.3"
  }
 },
 "nbformat": 4,
 "nbformat_minor": 2
}
