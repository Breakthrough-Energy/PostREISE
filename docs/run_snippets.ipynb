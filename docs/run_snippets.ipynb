{
 "cells": [
  {
   "cell_type": "code",
   "execution_count": 1,
   "id": "bcde2b26-c5f9-4cbb-a12a-059d550563bd",
   "metadata": {},
   "outputs": [],
   "source": [
    "import os\n",
    "# from bokeh.io import output_notebook\n",
    "# output_notebook()"
   ]
  },
  {
   "cell_type": "code",
   "execution_count": 2,
   "id": "3e7eab87-e8de-4ed4-bbf6-6029d00895ba",
   "metadata": {},
   "outputs": [],
   "source": [
    "os.makedirs(\"img2\", exist_ok=True)\n",
    "os.makedirs(\"img2/single\", exist_ok=True)\n",
    "os.makedirs(\"img2/comp\", exist_ok=True)\n",
    "os.makedirs(\"img2/other\", exist_ok=True)"
   ]
  },
  {
   "cell_type": "code",
   "execution_count": 3,
   "id": "32f8c42f-5d68-4ed9-ad93-2976f02f6c70",
   "metadata": {},
   "outputs": [],
   "source": [
    "# %load helper.py\n",
    "mpl = {\n",
    "    \"single\": {\n",
    "        \"curtailment_eastern\": (\n",
    "            \"curtailment_solar_eastern_ts.png\",\n",
    "            \"curtailment_wind_eastern_ts.png\",\n",
    "        ),\n",
    "        \"capacity_vs_cf_solar_western_scatter\": \"capacity_vs_cf_solar_western_scatter.png\",\n",
    "        \"capacity_vs_cost_curve_slope_coal_eastern_scatter\": \"capacity_vs_cost_curve_slope_coal_eastern_scatter.png\",\n",
    "        \"capacity_vs_curtailment_solar_western_scatter\": \"capacity_vs_curtailment_solar_western_scatter.png\",\n",
    "        \"curtailment_usa_heatmap\": \"curtailment_usa_heatmap.png\",\n",
    "        \"generation_stack_western_ts\": \"generation_stack_western_ts.png\",\n",
    "    },\n",
    "    \"comp\": {\n",
    "        \"capacity_vs_generation_bar\": (\n",
    "            \"capacity_vs_generation_ca_bar.png\",\n",
    "            \"capacity_vs_generation_western_bar.png\",\n",
    "        ),\n",
    "        \"capacity_vs_generation_pie\": (\n",
    "            \"capacity_vs_generation_wa_pie.png\",\n",
    "            \"capacity_vs_generation_western_pie.png\",\n",
    "        ),\n",
    "        \"energy_emission_stack_bar\": \"energy_emission_stack_bar.png\",\n",
    "        \"shortfall_nv\": \"shortfall_nv.png\",\n",
    "        \"emission_bar\": \"emission_bar.png\",\n",
    "        \"shortfall_nv\": \"shortfall_nv.png\",\n",
    "    },\n",
    "}\n",
    "\n",
    "\n",
    "def save_matplotlib(result, filename):\n",
    "    for i, output in enumerate(result.outputs):\n",
    "        with open(filename[i], \"wb\") as f:\n",
    "            f.write(output.data[\"image/png\"])\n"
   ]
  },
  {
   "cell_type": "code",
   "execution_count": 4,
   "id": "7c471324-d191-495b-93f8-50252d30fa57",
   "metadata": {
    "tags": []
   },
   "outputs": [
    {
     "name": "stdout",
     "output_type": "stream",
     "text": [
      "%%capture result\n",
      "%run code/curtailment_eastern.py\n",
      "save_matplotlib(result, ('img2/single/curtailment_solar_eastern_ts.png', 'img2/single/curtailment_wind_eastern_ts.png'))\n",
      "\n",
      "%%capture result\n",
      "%run code/capacity_vs_cf_solar_western_scatter.py\n",
      "save_matplotlib(result, ('img2/single/capacity_vs_cf_solar_western_scatter.png',))\n",
      "\n",
      "%%capture result\n",
      "%run code/capacity_vs_cost_curve_slope_coal_eastern_scatter.py\n",
      "save_matplotlib(result, ('img2/single/capacity_vs_cost_curve_slope_coal_eastern_scatter.png',))\n",
      "\n",
      "%%capture result\n",
      "%run code/capacity_vs_curtailment_solar_western_scatter.py\n",
      "save_matplotlib(result, ('img2/single/capacity_vs_curtailment_solar_western_scatter.png',))\n",
      "\n",
      "%%capture result\n",
      "%run code/curtailment_usa_heatmap.py\n",
      "save_matplotlib(result, ('img2/single/curtailment_usa_heatmap.png',))\n",
      "\n",
      "%%capture result\n",
      "%run code/generation_stack_western_ts.py\n",
      "save_matplotlib(result, ('img2/single/generation_stack_western_ts.png',))\n",
      "\n",
      "%%capture result\n",
      "%run code/capacity_vs_generation_bar.py\n",
      "save_matplotlib(result, ('img2/comp/capacity_vs_generation_ca_bar.png', 'img2/comp/capacity_vs_generation_western_bar.png'))\n",
      "\n",
      "%%capture result\n",
      "%run code/capacity_vs_generation_pie.py\n",
      "save_matplotlib(result, ('img2/comp/capacity_vs_generation_wa_pie.png', 'img2/comp/capacity_vs_generation_western_pie.png'))\n",
      "\n",
      "%%capture result\n",
      "%run code/energy_emission_stack_bar.py\n",
      "save_matplotlib(result, ('img2/comp/energy_emission_stack_bar.png',))\n",
      "\n",
      "%%capture result\n",
      "%run code/shortfall_nv.py\n",
      "save_matplotlib(result, ('img2/comp/shortfall_nv.png',))\n",
      "\n",
      "%%capture result\n",
      "%run code/emission_bar.py\n",
      "save_matplotlib(result, ('img2/comp/emission_bar.png',))\n",
      "\n"
     ]
    }
   ],
   "source": [
    "def generate_cells():\n",
    "    capture = \"%%capture result\"        \n",
    "    for kind, info in mpl.items():\n",
    "        for snippet, img_file in info.items():\n",
    "            if not isinstance(img_file, tuple):\n",
    "                img_file = (img_file,)\n",
    "            run_cmd = f\"%run code/{snippet}.py\"\n",
    "            filename = tuple(f\"img2/{kind}/{f}\" for f in img_file)\n",
    "            save_cmd = f\"save_matplotlib(result, {filename})\"\n",
    "            print(f\"{capture}\\n{run_cmd}\\n{save_cmd}\\n\")\n",
    "\n",
    "generate_cells()"
   ]
  },
  {
   "cell_type": "code",
   "execution_count": 5,
   "id": "86901faa-e41a-4936-ab00-54431777215a",
   "metadata": {},
   "outputs": [],
   "source": [
    "%%capture result\n",
    "%run code/curtailment_eastern.py"
   ]
  },
  {
   "cell_type": "code",
   "execution_count": 6,
   "id": "020558b9-0f52-4fd1-a19e-6926be37c076",
   "metadata": {},
   "outputs": [],
   "source": [
    "save_matplotlib(result, ('img2/single/curtailment_solar_eastern_ts.png', 'img2/single/curtailment_wind_eastern_ts.png'))"
   ]
  },
  {
   "cell_type": "code",
   "execution_count": 7,
   "id": "3d334262-e106-47a7-bcfe-0aa615823696",
   "metadata": {},
   "outputs": [],
   "source": [
    "%%capture result\n",
    "%run code/capacity_vs_cf_solar_western_scatter.py"
   ]
  },
  {
   "cell_type": "code",
   "execution_count": 8,
   "id": "8fb1ecfd-1f67-4fed-b3a1-5c8f826e6fb1",
   "metadata": {},
   "outputs": [],
   "source": [
    "save_matplotlib(result, ('img2/single/capacity_vs_cf_solar_western_scatter.png',))"
   ]
  },
  {
   "cell_type": "code",
   "execution_count": 9,
   "id": "c16201e5-7bd4-4b0b-adbf-3909cb149b99",
   "metadata": {},
   "outputs": [],
   "source": [
    "%%capture result\n",
    "%run code/capacity_vs_cost_curve_slope_coal_eastern_scatter.py"
   ]
  },
  {
   "cell_type": "code",
   "execution_count": 10,
   "id": "f34e1367-0c13-4639-8928-2420a2d0fb97",
   "metadata": {},
   "outputs": [],
   "source": [
    "save_matplotlib(result, ('img2/single/capacity_vs_cost_curve_slope_coal_eastern_scatter.png',))"
   ]
  },
  {
   "cell_type": "code",
   "execution_count": 11,
   "id": "d9bdcaf4-9277-4565-8ddc-fbb2a7dd7d0a",
   "metadata": {},
   "outputs": [],
   "source": [
    "%%capture result\n",
    "%run code/capacity_vs_curtailment_solar_western_scatter.py"
   ]
  },
  {
   "cell_type": "code",
   "execution_count": 12,
   "id": "06374224-422d-425e-82c9-dac8a3dfb193",
   "metadata": {},
   "outputs": [],
   "source": [
    "save_matplotlib(result, ('img2/single/capacity_vs_curtailment_solar_western_scatter.png',))"
   ]
  },
  {
   "cell_type": "code",
   "execution_count": 13,
   "id": "be19746d-1a94-49b3-b2f6-3f78e91bccd8",
   "metadata": {},
   "outputs": [],
   "source": [
    "%%capture result\n",
    "%run code/curtailment_usa_heatmap.py"
   ]
  },
  {
   "cell_type": "code",
   "execution_count": 14,
   "id": "049493cd-e880-46a5-8cec-066ac978c329",
   "metadata": {},
   "outputs": [],
   "source": [
    "save_matplotlib(result, ('img2/single/curtailment_usa_heatmap.png',))"
   ]
  },
  {
   "cell_type": "code",
   "execution_count": 15,
   "id": "b620686a-bbf8-43c7-987c-dd54bba79b4e",
   "metadata": {
    "tags": []
   },
   "outputs": [],
   "source": [
    "%%capture result\n",
    "%run code/generation_stack_western_ts.py"
   ]
  },
  {
   "cell_type": "code",
   "execution_count": 16,
   "id": "6d0356be-2c65-481e-a2ab-b1323b1586a4",
   "metadata": {},
   "outputs": [],
   "source": [
    "save_matplotlib(result, ('img2/single/generation_stack_western_ts.png',))"
   ]
  },
  {
   "cell_type": "code",
   "execution_count": 17,
   "id": "70114138-c06d-4b32-b8c3-9c20eb9f42b9",
   "metadata": {},
   "outputs": [],
   "source": [
    "%%capture result\n",
    "%run code/capacity_vs_generation_bar.py"
   ]
  },
  {
   "cell_type": "code",
   "execution_count": 18,
   "id": "fdbcdf4f-5867-4daa-a37a-4afee48aca3c",
   "metadata": {},
   "outputs": [],
   "source": [
    "save_matplotlib(result, ('img2/comp/capacity_vs_generation_ca_bar.png', 'img2/comp/capacity_vs_generation_western_bar.png'))"
   ]
  },
  {
   "cell_type": "code",
   "execution_count": 19,
   "id": "485f0c7e-7126-4e58-ad67-d959e68456ba",
   "metadata": {},
   "outputs": [],
   "source": [
    "%%capture result\n",
    "%run code/capacity_vs_generation_pie.py"
   ]
  },
  {
   "cell_type": "code",
   "execution_count": 20,
   "id": "69572e86-949c-4a3f-bb4c-e1a75549697b",
   "metadata": {},
   "outputs": [],
   "source": [
    "save_matplotlib(result, ('img2/comp/capacity_vs_generation_wa_pie.png', 'img2/comp/capacity_vs_generation_western_pie.png'))"
   ]
  },
  {
   "cell_type": "code",
   "execution_count": 21,
   "id": "7e1243c1-98f5-47c6-8d91-7d6893d5b71e",
   "metadata": {},
   "outputs": [],
   "source": [
    "%%capture result\n",
    "%run code/energy_emission_stack_bar.py"
   ]
  },
  {
   "cell_type": "code",
   "execution_count": 22,
   "id": "9d9754a5-d2bb-4211-8969-90eb60b3e8b8",
   "metadata": {},
   "outputs": [],
   "source": [
    "save_matplotlib(result, ('img2/comp/energy_emission_stack_bar.png',))"
   ]
  },
  {
   "cell_type": "code",
   "execution_count": 23,
   "id": "21424a05-568c-4d55-81aa-df67da65cb3d",
   "metadata": {},
   "outputs": [],
   "source": [
    "%%capture result\n",
    "%run code/shortfall_nv.py"
   ]
  },
  {
   "cell_type": "code",
   "execution_count": 24,
   "id": "7507e374-e0b5-4b50-a508-c18d01525120",
   "metadata": {},
   "outputs": [],
   "source": [
    "save_matplotlib(result, ('img2/comp/shortfall_nv.png',))"
   ]
  },
  {
   "cell_type": "code",
   "execution_count": 25,
   "id": "08978c6d-0650-48d1-91ae-5047765f7963",
   "metadata": {},
   "outputs": [],
   "source": [
    "%%capture result\n",
    "%run code/emission_bar.py"
   ]
  },
  {
   "cell_type": "code",
   "execution_count": 26,
   "id": "1d13a87a-996b-44b0-9cfb-2d55c64e136a",
   "metadata": {},
   "outputs": [],
   "source": [
    "save_matplotlib(result, ('img2/comp/emission_bar.png',))"
   ]
  },
  {
   "cell_type": "code",
   "execution_count": null,
   "id": "2ab44879-5023-4fdb-88d6-20cbdc80b764",
   "metadata": {},
   "outputs": [],
   "source": []
  }
 ],
 "metadata": {
  "kernelspec": {
   "display_name": "Python 3",
   "language": "python",
   "name": "python3"
  },
  "language_info": {
   "codemirror_mode": {
    "name": "ipython",
    "version": 3
   },
   "file_extension": ".py",
   "mimetype": "text/x-python",
   "name": "python",
   "nbconvert_exporter": "python",
   "pygments_lexer": "ipython3",
   "version": "3.8.3"
  }
 },
 "nbformat": 4,
 "nbformat_minor": 5
}
